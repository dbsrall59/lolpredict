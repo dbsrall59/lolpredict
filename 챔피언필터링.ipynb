{
 "cells": [
  {
   "cell_type": "code",
   "execution_count": 1,
   "id": "721f681e-8f1c-46a6-bce5-4313ae3e1fbe",
   "metadata": {},
   "outputs": [],
   "source": [
    "import os\n",
    "import cx_Oracle as db\n",
    "import requests\n",
    "import json\n",
    "import datetime\n",
    "import time\n",
    "import pandas as pd"
   ]
  },
  {
   "cell_type": "code",
   "execution_count": 2,
   "id": "7d9043f2-12ad-43f8-92bc-f0f1906c9cad",
   "metadata": {},
   "outputs": [],
   "source": [
    "LOCATION = 'C:' + os.environ['HOMEPATH'] + '\\\\instantclient_21_6'\n",
    "os.environ['PATH'] = LOCATION + ';' + os.environ['PATH']\n",
    "os.environ['NLS_LANG'] = 'KOREAN_KOREA.KO16MSWIN949'\n",
    "\n",
    "conn = db.connect('lolpredict', 'korhrd', '163.152.224.168:1521')\n",
    "cursor = conn.cursor()"
   ]
  },
  {
   "cell_type": "code",
   "execution_count": 3,
   "id": "5d26a113-bef0-4dc6-b5fd-628bdfecb7ec",
   "metadata": {},
   "outputs": [],
   "source": [
    "tablesize = 20000\n",
    "i = 6\n",
    "\n",
    "startRownum = tablesize * i\n",
    "endRownum = tablesize * (i + 1)\n",
    "\n",
    "sql = \"select * from matchinfo OFFSET {} ROWS FETCH NEXT {} ROWS ONLY\".format(startRownum, endRownum)\n",
    "cursor.execute(sql)\n",
    "matchList = cursor.fetchall()\n",
    "\n",
    "matchConvList = []\n",
    "for match in matchList:\n",
    "    resultStr = \"\"\n",
    "    for i in match[1:]:\n",
    "        if type(i) == type(resultStr):\n",
    "            resultStr += i\n",
    "\n",
    "    try:\n",
    "        ex = eval(resultStr.replace(\"\\\\\\\"\", \"'\"))\n",
    "    except:\n",
    "        continue\n",
    "\n",
    "    startTime = ex['info']['gameStartTimestamp'] / 1000\n",
    "    realTime = datetime.datetime.fromtimestamp(startTime).strftime(\"%y%m%d\")\n",
    "\n",
    "    if ((ex['info']['queueId'] == 420)\n",
    "        & (realTime > \"220524\")):\n",
    "        for i in ex['info']['participants']:\n",
    "            matchConv = {\"matchID\" : match[0],\n",
    "                        \"championID\" :  i['championId'], \n",
    "                        \"position\" : i['teamPosition'],\n",
    "                        \"win\" : i['win'],\n",
    "                        \"kda\" : i['challenges']['kda']}\n",
    "            matchConvList.append(matchConv)\n",
    "\n",
    "matchdf = pd.DataFrame(matchConvList)\n",
    "matchdf.to_csv('data/champions{}.csv'.format(startRownum))"
   ]
  },
  {
   "cell_type": "code",
   "execution_count": null,
   "id": "a9f13ec8-6127-4aae-bda0-c4b4d5b5feef",
   "metadata": {},
   "outputs": [],
   "source": []
  }
 ],
 "metadata": {
  "kernelspec": {
   "display_name": "keras",
   "language": "python",
   "name": "keras"
  },
  "language_info": {
   "codemirror_mode": {
    "name": "ipython",
    "version": 3
   },
   "file_extension": ".py",
   "mimetype": "text/x-python",
   "name": "python",
   "nbconvert_exporter": "python",
   "pygments_lexer": "ipython3",
   "version": "3.9.12"
  }
 },
 "nbformat": 4,
 "nbformat_minor": 5
}
