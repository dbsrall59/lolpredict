{
 "cells": [
  {
   "cell_type": "code",
   "execution_count": 38,
   "id": "8ca23a86",
   "metadata": {},
   "outputs": [],
   "source": [
    "import os\n",
    "import cx_Oracle as db\n",
    "import requests"
   ]
  },
  {
   "cell_type": "code",
   "execution_count": 39,
   "id": "f899219d-a71d-4c58-b707-fcdbb5ec0052",
   "metadata": {},
   "outputs": [],
   "source": [
    "def binarySearchAsc(mItem, mList, key):\n",
    "\n",
    "    startIndex = 0\n",
    "    endIndex = len(mList) - 1\n",
    "    \n",
    "    while(startIndex <= endIndex):\n",
    "        target = int((startIndex + endIndex) / 2)\n",
    "        \n",
    "        if(mItem == mList[target]):\n",
    "            return [True, target]\n",
    "        elif(mItem < mList[target]):\n",
    "            endIndex = target - 1\n",
    "        else:\n",
    "            startIndex = target + 1\n",
    "            \n",
    "    if(endIndex == -1):\n",
    "        return [False, startIndex]\n",
    "    if(startIndex > endIndex):\n",
    "        return [False, startIndex]\n",
    "    return [False, target]"
   ]
  },
  {
   "cell_type": "code",
   "execution_count": 40,
   "id": "2a1d310d-bda8-495a-ada6-de15db2c76fa",
   "metadata": {},
   "outputs": [],
   "source": [
    "def binarySearchtuple(mItem, mList, key):\n",
    "\n",
    "    startIndex = 0\n",
    "    endIndex = len(mList) - 1\n",
    "    \n",
    "    while(startIndex <= endIndex):\n",
    "        target = int((startIndex + endIndex) / 2)\n",
    "        \n",
    "        if(mItem == mList[target][key]):\n",
    "            return [True, target]\n",
    "        elif(mItem < mList[target][key]):\n",
    "            endIndex = target - 1\n",
    "        else:\n",
    "            startIndex = target + 1\n",
    "            \n",
    "    if(endIndex == -1):\n",
    "        return [False, startIndex]\n",
    "    if(startIndex > endIndex):\n",
    "        return [False, startIndex]\n",
    "    return [False, target]"
   ]
  },
  {
   "cell_type": "code",
   "execution_count": 41,
   "id": "b03a00c8-7a9b-4185-bdc4-f6220a82a3bd",
   "metadata": {},
   "outputs": [],
   "source": [
    "a = [[1,2], [3,4]]"
   ]
  },
  {
   "cell_type": "code",
   "execution_count": 61,
   "id": "5d080949-fcee-445d-8512-257884634851",
   "metadata": {},
   "outputs": [],
   "source": [
    "conn = db.connect('lolpredict', 'korhrd', '127.0.0.1:1521')\n",
    "cursor = conn.cursor()"
   ]
  },
  {
   "cell_type": "code",
   "execution_count": 62,
   "id": "8a94082c-7834-4798-acf6-4e600c1509f4",
   "metadata": {},
   "outputs": [
    {
     "data": {
      "text/plain": [
       "[('wow', 0)]"
      ]
     },
     "execution_count": 62,
     "metadata": {},
     "output_type": "execute_result"
    }
   ],
   "source": [
    "sql = 'select * from userinfo'\n",
    "cursor.execute(sql)\n",
    "userList = cursor.fetchall()\n",
    "userList"
   ]
  },
  {
   "cell_type": "code",
   "execution_count": 63,
   "id": "798904b4-ad8e-4f99-8089-1c2dcba65232",
   "metadata": {},
   "outputs": [
    {
     "data": {
      "text/plain": [
       "[('wow', 'wow')]"
      ]
     },
     "execution_count": 63,
     "metadata": {},
     "output_type": "execute_result"
    }
   ],
   "source": [
    "sql = 'select * from matchinfo'\n",
    "cursor.execute(sql)\n",
    "matchList = cursor.fetchall()\n",
    "matchList"
   ]
  },
  {
   "cell_type": "code",
   "execution_count": 68,
   "id": "8bc2404b-c1af-4652-b5e5-0584f3cfaf10",
   "metadata": {},
   "outputs": [
    {
     "data": {
      "text/plain": [
       "0"
      ]
     },
     "execution_count": 68,
     "metadata": {},
     "output_type": "execute_result"
    }
   ],
   "source": [
    "userList[0][1]"
   ]
  },
  {
   "cell_type": "code",
   "execution_count": 12,
   "id": "31902a07-11d4-4e2e-826f-960b4b6c95cf",
   "metadata": {},
   "outputs": [],
   "source": [
    "requestHeader = {\n",
    "    \"User-Agent\": \"Mozilla/5.0 (Windows NT 10.0; Win64; x64; rv:102.0) Gecko/20100101 Firefox/102.0\",\n",
    "    \"Accept-Language\": \"ko-KR,ko;q=0.8,en-US;q=0.5,en;q=0.3\",\n",
    "    \"Accept-Charset\": \"application/x-www-form-urlencoded; charset=UTF-8\",\n",
    "    \"Origin\": \"https://developer.riotgames.com\",\n",
    "    \"X-Riot-Token\": \"RGAPI-dfecf892-3426-40ea-9670-a4656b2aae03\"\n",
    "}"
   ]
  },
  {
   "cell_type": "code",
   "execution_count": 13,
   "id": "1860875c-74a7-4fa7-9881-a5c3c8471dbd",
   "metadata": {},
   "outputs": [],
   "source": [
    "url = \"https://kr.api.riotgames.com/lol/summoner/v4/summoners/by-name/\" + \"hideonbush\"\n",
    "result = requests.get(url, headers=requestHeader)"
   ]
  },
  {
   "cell_type": "code",
   "execution_count": 14,
   "id": "712378d4-71b7-42bc-9249-186fb13e5e5c",
   "metadata": {},
   "outputs": [],
   "source": [
    "puuid = result.json()['puuid']"
   ]
  },
  {
   "cell_type": "code",
   "execution_count": 15,
   "id": "2601f79c-cf6d-4e19-802c-5ec25bd7ab3a",
   "metadata": {},
   "outputs": [],
   "source": [
    "url = \"https://asia.api.riotgames.com/lol/match/v5/matches/by-puuid/\" + puuid + \"/ids?start=0&count=100\"\n",
    "result = requests.get(url, headers=requestHeader)"
   ]
  },
  {
   "cell_type": "code",
   "execution_count": 16,
   "id": "05f6edd0-a995-40a8-970e-e951d6a397e0",
   "metadata": {},
   "outputs": [],
   "source": [
    "matchid = result.json()[0]"
   ]
  },
  {
   "cell_type": "code",
   "execution_count": 17,
   "id": "dcbdf142-a7e9-4337-bab7-714aedf02449",
   "metadata": {},
   "outputs": [],
   "source": [
    "url = \"https://asia.api.riotgames.com/lol/match/v5/matches/\" + matchid\n",
    "result = requests.get(url, headers=requestHeader)"
   ]
  },
  {
   "cell_type": "code",
   "execution_count": 35,
   "id": "9bad359d-27ee-4d20-b4a8-c8e23b796f38",
   "metadata": {},
   "outputs": [
    {
     "name": "stdout",
     "output_type": "stream",
     "text": [
      "su yi ming\n",
      "Utopiax\n",
      "qiqiqi77\n",
      "qwanl\n",
      "Lycoris Recoil\n",
      "vsdfvdsg\n",
      "기술 카드 카\n",
      "Hide on bush\n",
      "CCwhitte\n",
      "cax9\n"
     ]
    }
   ],
   "source": [
    "for i in range(10):\n",
    "    print(result.json()['info']['participants'][i]['summonerName'])"
   ]
  },
  {
   "cell_type": "code",
   "execution_count": 72,
   "id": "24e72a3c-d717-48ad-8eef-765dbad1a2ba",
   "metadata": {},
   "outputs": [
    {
     "name": "stdout",
     "output_type": "stream",
     "text": [
      "error\n"
     ]
    }
   ],
   "source": [
    "try:\n",
    "    sql = \"insert into userinfo values ('1', 0)\"\n",
    "    cursor.execute(sql)\n",
    "    conn.commit();\n",
    "except:\n",
    "    print('error')"
   ]
  },
  {
   "cell_type": "code",
   "execution_count": 73,
   "id": "91302bb9-95e8-4856-b05a-346959308809",
   "metadata": {},
   "outputs": [
    {
     "ename": "NameError",
     "evalue": "name 'i0' is not defined",
     "output_type": "error",
     "traceback": [
      "\u001b[1;31m---------------------------------------------------------------------------\u001b[0m",
      "\u001b[1;31mNameError\u001b[0m                                 Traceback (most recent call last)",
      "Input \u001b[1;32mIn [73]\u001b[0m, in \u001b[0;36m<cell line: 1>\u001b[1;34m()\u001b[0m\n\u001b[1;32m----> 1\u001b[0m sql \u001b[38;5;241m=\u001b[39m \u001b[38;5;124m\"\u001b[39m\u001b[38;5;124mupdate userinfo SET iscomplete = 1 where username = \u001b[39m\u001b[38;5;124m'\u001b[39m\u001b[38;5;132;01m{}\u001b[39;00m\u001b[38;5;124m'\u001b[39m\u001b[38;5;124m\"\u001b[39m\u001b[38;5;241m.\u001b[39mformat(userList[\u001b[43mi0\u001b[49m])\n\u001b[0;32m      2\u001b[0m cursor\u001b[38;5;241m.\u001b[39mexecute(sql)\n\u001b[0;32m      3\u001b[0m conn\u001b[38;5;241m.\u001b[39mcommit()\n",
      "\u001b[1;31mNameError\u001b[0m: name 'i0' is not defined"
     ]
    }
   ],
   "source": [
    "sql = \"update userinfo SET iscomplete = 1 where username = '{}'\".format()\n",
    "cursor.execute(sql)\n",
    "conn.commit()"
   ]
  }
 ],
 "metadata": {
  "kernelspec": {
   "display_name": "Python 3 (ipykernel)",
   "language": "python",
   "name": "python3"
  },
  "language_info": {
   "codemirror_mode": {
    "name": "ipython",
    "version": 3
   },
   "file_extension": ".py",
   "mimetype": "text/x-python",
   "name": "python",
   "nbconvert_exporter": "python",
   "pygments_lexer": "ipython3",
   "version": "3.9.12"
  }
 },
 "nbformat": 4,
 "nbformat_minor": 5
}
