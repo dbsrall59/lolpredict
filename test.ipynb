{
 "cells": [
  {
   "cell_type": "code",
   "execution_count": 1,
   "id": "8ca23a86",
   "metadata": {},
   "outputs": [],
   "source": [
    "import os\n",
    "import cx_Oracle as db\n",
    "import requests\n",
    "import json"
   ]
  },
  {
   "cell_type": "code",
   "execution_count": 28,
   "id": "f899219d-a71d-4c58-b707-fcdbb5ec0052",
   "metadata": {},
   "outputs": [],
   "source": [
    "def binarySearchAsc(mItem, mList, key):\n",
    "\n",
    "    startIndex = 0\n",
    "    endIndex = len(mList) - 1\n",
    "    \n",
    "    while(startIndex <= endIndex):\n",
    "        target = int((startIndex + endIndex) / 2)\n",
    "        \n",
    "        if(mItem == mList[target]):\n",
    "            return [True, target]\n",
    "        elif(mItem < mList[target]):\n",
    "            endIndex = target - 1\n",
    "        else:\n",
    "            startIndex = target + 1\n",
    "            \n",
    "    if(endIndex == -1):\n",
    "        return [False, startIndex]\n",
    "    if(startIndex > endIndex):\n",
    "        return [False, startIndex]\n",
    "    return [False, target]"
   ]
  },
  {
   "cell_type": "code",
   "execution_count": 29,
   "id": "2a1d310d-bda8-495a-ada6-de15db2c76fa",
   "metadata": {},
   "outputs": [],
   "source": [
    "def binarySearchtuple(mItem, mList, key):\n",
    "\n",
    "    startIndex = 0\n",
    "    endIndex = len(mList) - 1\n",
    "    \n",
    "    while(startIndex <= endIndex):\n",
    "        target = int((startIndex + endIndex) / 2)\n",
    "        \n",
    "        if(mItem == mList[target][key]):\n",
    "            return [True, target]\n",
    "        elif(mItem < mList[target][key]):\n",
    "            endIndex = target - 1\n",
    "        else:\n",
    "            startIndex = target + 1\n",
    "            \n",
    "    if(endIndex == -1):\n",
    "        return [False, startIndex]\n",
    "    if(startIndex > endIndex):\n",
    "        return [False, startIndex]\n",
    "    return [False, target]"
   ]
  },
  {
   "cell_type": "code",
   "execution_count": 2,
   "id": "5d080949-fcee-445d-8512-257884634851",
   "metadata": {},
   "outputs": [],
   "source": [
    "conn = db.connect('lolpredict', 'korhrd', '127.0.0.1:1521')\n",
    "cursor = conn.cursor()"
   ]
  },
  {
   "cell_type": "code",
   "execution_count": 5,
   "id": "ef5fa68e-db9c-4c6e-9683-49a2268d00a4",
   "metadata": {},
   "outputs": [],
   "source": [
    "sql = \"select * from matchinfo\"\n",
    "cursor.execute(sql)\n",
    "matchList = cursor.fetchall()"
   ]
  },
  {
   "cell_type": "code",
   "execution_count": 11,
   "id": "7943ef6c-072d-49a5-8658-2f7e28bd62fe",
   "metadata": {
    "tags": []
   },
   "outputs": [],
   "source": [
    "resultStr = \"\"\n",
    "for i in matchList[0][1:]:\n",
    "    if type(i) == type(resultStr):\n",
    "        resultStr += i\n",
    "ex = eval(resultStr.replace(\"\\\\\\\"\", \"'\"))"
   ]
  },
  {
   "cell_type": "code",
   "execution_count": 43,
   "id": "5505b35a-0a75-4f96-a262-1a145b9a0964",
   "metadata": {},
   "outputs": [
    {
     "data": {
      "text/plain": [
       "[(81643,)]"
      ]
     },
     "execution_count": 43,
     "metadata": {},
     "output_type": "execute_result"
    }
   ],
   "source": [
    "sql = \"select count(*) from matchinfo\"\n",
    "cursor.execute(sql)\n",
    "cursor.fetchall()"
   ]
  },
  {
   "cell_type": "code",
   "execution_count": 17,
   "id": "2173da93-b654-42c9-af81-6789e977b321",
   "metadata": {},
   "outputs": [
    {
     "data": {
      "text/plain": [
       "'MATCHED_GAME'"
      ]
     },
     "execution_count": 17,
     "metadata": {},
     "output_type": "execute_result"
    }
   ],
   "source": [
    "ex[ex['info']['gameType'] == 'MATCHED_GAME']"
   ]
  },
  {
   "cell_type": "code",
   "execution_count": 21,
   "id": "122069f4-6d3e-4424-961e-50daf1305f07",
   "metadata": {},
   "outputs": [],
   "source": [
    "startTime = ex['info']['gameStartTimestamp']"
   ]
  },
  {
   "cell_type": "code",
   "execution_count": 46,
   "id": "b0ab66a6-f14d-4eb2-af42-0095b331ba33",
   "metadata": {},
   "outputs": [],
   "source": [
    "startTime /= 1000"
   ]
  },
  {
   "cell_type": "code",
   "execution_count": 28,
   "id": "80ca1164-2d8e-4612-b29a-c6174afd5bc2",
   "metadata": {},
   "outputs": [],
   "source": [
    "import datetime\n",
    "import time"
   ]
  },
  {
   "cell_type": "code",
   "execution_count": 47,
   "id": "3640f7dd-ca23-4592-971e-b1c428bfbfb6",
   "metadata": {},
   "outputs": [
    {
     "data": {
      "text/plain": [
       "datetime.datetime(2022, 7, 8, 4, 57, 39, 258000)"
      ]
     },
     "execution_count": 47,
     "metadata": {},
     "output_type": "execute_result"
    }
   ],
   "source": [
    "datetime.datetime.fromtimestamp(startTime)"
   ]
  },
  {
   "cell_type": "code",
   "execution_count": 12,
   "id": "fbafca46-7e22-46d9-9eea-b3ff0e6d0aae",
   "metadata": {},
   "outputs": [],
   "source": [
    "import numpy as np"
   ]
  },
  {
   "cell_type": "code",
   "execution_count": 27,
   "id": "2c6b5f82-7d1e-4d9b-97c4-397397de9f66",
   "metadata": {},
   "outputs": [
    {
     "data": {
      "text/plain": [
       "1"
      ]
     },
     "execution_count": 27,
     "metadata": {},
     "output_type": "execute_result"
    }
   ],
   "source": [
    "a = [1,2,3,4,5]\n",
    "a = np.array(a)\n",
    "b = a[(a % 2) == 1]\n",
    "b[np.random.randint(0, len(b))]"
   ]
  },
  {
   "cell_type": "code",
   "execution_count": 30,
   "id": "09ae1ec3-833a-45f2-8745-f6ac44d21bbd",
   "metadata": {},
   "outputs": [
    {
     "data": {
      "text/plain": [
       "[True, 0]"
      ]
     },
     "execution_count": 30,
     "metadata": {},
     "output_type": "execute_result"
    }
   ],
   "source": [
    "binarySearchAsc(1, a, 0)"
   ]
  },
  {
   "cell_type": "code",
   "execution_count": null,
   "id": "a3cf246f-6650-492d-948b-0e8cf66d9f57",
   "metadata": {},
   "outputs": [],
   "source": [
    "championId\n",
    "win"
   ]
  },
  {
   "cell_type": "code",
   "execution_count": 34,
   "id": "0621683d-af4c-4987-ab7e-dba121acfc8f",
   "metadata": {},
   "outputs": [],
   "source": [
    "champions = []\n",
    "champions.append({'number' : 266, 'name' : 'Aatrox'})\n"
   ]
  },
  {
   "cell_type": "code",
   "execution_count": null,
   "id": "01f3cccc-303c-470b-bcff-9882258be2e2",
   "metadata": {},
   "outputs": [],
   "source": [
    "m = 60000\n",
    "\n",
    "input_shape = (m, 5)\n",
    "\n",
    "hiddenlayer(5, x)\n",
    "hiddenlayer(x, y)\n",
    "hiddenlayer(y, m)\n",
    "\n",
    "output_shape = (m, 1)"
   ]
  },
  {
   "cell_type": "code",
   "execution_count": null,
   "id": "a44838ae-9a68-44db-8497-8b65ad5bad7e",
   "metadata": {},
   "outputs": [],
   "source": []
  }
 ],
 "metadata": {
  "kernelspec": {
   "display_name": "Python 3 (ipykernel)",
   "language": "python",
   "name": "python3"
  },
  "language_info": {
   "codemirror_mode": {
    "name": "ipython",
    "version": 3
   },
   "file_extension": ".py",
   "mimetype": "text/x-python",
   "name": "python",
   "nbconvert_exporter": "python",
   "pygments_lexer": "ipython3",
   "version": "3.9.12"
  }
 },
 "nbformat": 4,
 "nbformat_minor": 5
}
