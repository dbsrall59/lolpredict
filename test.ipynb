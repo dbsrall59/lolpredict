{
 "cells": [
  {
   "cell_type": "code",
   "execution_count": 27,
   "id": "8daf24b6",
   "metadata": {},
   "outputs": [],
   "source": [
    "import os\n",
    "import cx_Oracle as db\n",
    "import requests\n",
    "import json\n",
    "import datetime\n",
    "import time\n",
    "import pandas as pd\n",
    "import numpy as np"
   ]
  },
  {
   "cell_type": "code",
   "execution_count": 2,
   "id": "877db50b",
   "metadata": {},
   "outputs": [],
   "source": [
    "def binarySearchAsc(mItem, mList, key):\n",
    "\n",
    "    startIndex = 0\n",
    "    endIndex = len(mList) - 1\n",
    "    \n",
    "    while(startIndex <= endIndex):\n",
    "        target = int((startIndex + endIndex) / 2)\n",
    "        \n",
    "        if(mItem == mList[target]):\n",
    "            return [True, target]\n",
    "        elif(mItem < mList[target]):\n",
    "            endIndex = target - 1\n",
    "        else:\n",
    "            startIndex = target + 1\n",
    "            \n",
    "    if(endIndex == -1):\n",
    "        return [False, startIndex]\n",
    "    if(startIndex > endIndex):\n",
    "        return [False, startIndex]\n",
    "    return [False, target]"
   ]
  },
  {
   "cell_type": "code",
   "execution_count": 3,
   "id": "cee4571d",
   "metadata": {},
   "outputs": [],
   "source": [
    "def binarySearchtuple(mItem, mList, key):\n",
    "\n",
    "    startIndex = 0\n",
    "    endIndex = len(mList) - 1\n",
    "    \n",
    "    while(startIndex <= endIndex):\n",
    "        target = int((startIndex + endIndex) / 2)\n",
    "        \n",
    "        if(mItem == mList[target][key]):\n",
    "            return [True, target]\n",
    "        elif(mItem < mList[target][key]):\n",
    "            endIndex = target - 1\n",
    "        else:\n",
    "            startIndex = target + 1\n",
    "            \n",
    "    if(endIndex == -1):\n",
    "        return [False, startIndex]\n",
    "    if(startIndex > endIndex):\n",
    "        return [False, startIndex]\n",
    "    return [False, target]"
   ]
  },
  {
   "cell_type": "code",
   "execution_count": 4,
   "id": "bee1226e",
   "metadata": {},
   "outputs": [],
   "source": [
    "conn = db.connect('lolpredict', 'korhrd', '127.0.0.1:1521')\n",
    "cursor = conn.cursor()"
   ]
  },
  {
   "cell_type": "code",
   "execution_count": 5,
   "id": "89288532-21cb-4537-b7a6-5bb349300409",
   "metadata": {},
   "outputs": [
    {
     "data": {
      "text/plain": [
       "[(168129,)]"
      ]
     },
     "execution_count": 5,
     "metadata": {},
     "output_type": "execute_result"
    }
   ],
   "source": [
    "sql = \"select count(*) from matchinfo\"\n",
    "cursor.execute(sql)\n",
    "cursor.fetchall()"
   ]
  },
  {
   "cell_type": "code",
   "execution_count": 28,
   "id": "d50fa5ee",
   "metadata": {},
   "outputs": [],
   "source": [
    "startRownum = 0\n",
    "endRownum = 100\n",
    "\n",
    "sql = \"select matchid from matchinfo OFFSET {} ROWS FETCH NEXT {} ROWS ONLY\".format(startRownum, endRownum)\n",
    "cursor.execute(sql)\n",
    "matchList = np.array(cursor.fetchall())"
   ]
  },
  {
   "cell_type": "code",
   "execution_count": 51,
   "id": "10553c32-3ffd-4f03-b8c7-98169ae5bb1c",
   "metadata": {
    "tags": []
   },
   "outputs": [],
   "source": [
    "matchConvList = []\n",
    "for match in matchList:\n",
    "    resultStr = \"\"\n",
    "    for i in match[1:]:\n",
    "        if type(i) == type(resultStr):\n",
    "            resultStr += i\n",
    "            \n",
    "    ex = eval(resultStr.replace(\"\\\\\\\"\", \"'\"))\n",
    "    \n",
    "    startTime = ex['info']['gameStartTimestamp'] / 1000\n",
    "    realTime = datetime.datetime.fromtimestamp(startTime).strftime(\"%y%m%d\")\n",
    "    \n",
    "    if ((ex['info']['queueId'] == 420)\n",
    "        & (realTime > \"211231\")):\n",
    "        for i in ex['info']['participants']:\n",
    "            matchConv = {\"matchID\" : match[0],\n",
    "                        \"championID\" :  i['championId'], \n",
    "                        \"position\" : i['teamPosition'],\n",
    "                        \"win\" : i['win'],\n",
    "                        \"kda\" : i['challenges']['kda']}\n",
    "            matchConvList.append(matchConv)"
   ]
  },
  {
   "cell_type": "code",
   "execution_count": 52,
   "id": "ccac4ab2-c170-4f6f-8806-325a423c7780",
   "metadata": {},
   "outputs": [],
   "source": [
    "matchdf = pd.DataFrame(matchConvList)"
   ]
  },
  {
   "cell_type": "code",
   "execution_count": null,
   "id": "eacda1dd-921d-4aeb-aef1-67159ba96e45",
   "metadata": {},
   "outputs": [],
   "source": []
  },
  {
   "cell_type": "code",
   "execution_count": 12,
   "id": "d4a00489",
   "metadata": {},
   "outputs": [
    {
     "data": {
      "text/plain": [
       "'MATCHED_GAME'"
      ]
     },
     "execution_count": 12,
     "metadata": {},
     "output_type": "execute_result"
    }
   ],
   "source": [
    "ex['info']['gameType']"
   ]
  },
  {
   "cell_type": "code",
   "execution_count": 13,
   "id": "6fa992b2",
   "metadata": {},
   "outputs": [],
   "source": [
    "startTime = ex['info']['gameStartTimestamp']"
   ]
  },
  {
   "cell_type": "code",
   "execution_count": 14,
   "id": "8306cdd0",
   "metadata": {},
   "outputs": [],
   "source": [
    "startTime /= 1000"
   ]
  },
  {
   "cell_type": "code",
   "execution_count": 15,
   "id": "551e68c5",
   "metadata": {},
   "outputs": [],
   "source": []
  },
  {
   "cell_type": "code",
   "execution_count": 60,
   "id": "db1881e5",
   "metadata": {},
   "outputs": [
    {
     "data": {
      "text/plain": [
       "'220706'"
      ]
     },
     "execution_count": 60,
     "metadata": {},
     "output_type": "execute_result"
    }
   ],
   "source": []
  },
  {
   "cell_type": "code",
   "execution_count": 58,
   "id": "ef21313e-810d-41ed-b8c9-998d972919e5",
   "metadata": {},
   "outputs": [
    {
     "data": {
      "text/plain": [
       "79"
      ]
     },
     "execution_count": 58,
     "metadata": {},
     "output_type": "execute_result"
    }
   ],
   "source": [
    "ex['info']['participants'][0]['championId']"
   ]
  },
  {
   "cell_type": "code",
   "execution_count": 22,
   "id": "653fafe9-420a-438b-85eb-85bb034f2f4b",
   "metadata": {},
   "outputs": [
    {
     "data": {
      "text/plain": [
       "'TOP'"
      ]
     },
     "execution_count": 22,
     "metadata": {},
     "output_type": "execute_result"
    }
   ],
   "source": [
    "ex['info']['participants'][0]['individualPosition']"
   ]
  },
  {
   "cell_type": "code",
   "execution_count": 23,
   "id": "d7b76edf-8710-48ae-9546-80d8263f829e",
   "metadata": {},
   "outputs": [
    {
     "data": {
      "text/plain": [
       "False"
      ]
     },
     "execution_count": 23,
     "metadata": {},
     "output_type": "execute_result"
    }
   ],
   "source": [
    "ex['info']['participants'][0]['win']"
   ]
  },
  {
   "cell_type": "code",
   "execution_count": null,
   "id": "eb8a54f0-0e49-489b-9b96-498d2c08f902",
   "metadata": {},
   "outputs": [],
   "source": []
  },
  {
   "cell_type": "code",
   "execution_count": null,
   "id": "d4a78348",
   "metadata": {},
   "outputs": [],
   "source": [
    "m = 60000\n",
    "\n",
    "input_shape = (m, 5, 5, 156,156)\n",
    "output_shape = (m, 1)"
   ]
  },
  {
   "cell_type": "code",
   "execution_count": null,
   "id": "aaf7d3fc",
   "metadata": {},
   "outputs": [],
   "source": []
  }
 ],
 "metadata": {
  "kernelspec": {
   "display_name": "Python 3 (ipykernel)",
   "language": "python",
   "name": "python3"
  },
  "language_info": {
   "codemirror_mode": {
    "name": "ipython",
    "version": 3
   },
   "file_extension": ".py",
   "mimetype": "text/x-python",
   "name": "python",
   "nbconvert_exporter": "python",
   "pygments_lexer": "ipython3",
   "version": "3.9.12"
  }
 },
 "nbformat": 4,
 "nbformat_minor": 5
}
