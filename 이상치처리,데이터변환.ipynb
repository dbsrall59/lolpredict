{
 "cells": [
  {
   "cell_type": "code",
   "execution_count": 2,
   "id": "f484507e-9c2e-4e5e-8c11-3485bc55c53a",
   "metadata": {},
   "outputs": [],
   "source": [
    "import pandas as pd\n",
    "import numpy as np\n",
    "import os"
   ]
  },
  {
   "cell_type": "code",
   "execution_count": 71,
   "id": "c687c69e-2261-4f4f-9554-2f546f2aca2f",
   "metadata": {},
   "outputs": [],
   "source": [
    "def binarySearchAsc(mItem, mList):\n",
    "\n",
    "    startIndex = 0\n",
    "    endIndex = len(mList) - 1\n",
    "    \n",
    "    while(startIndex <= endIndex):\n",
    "        target = int((startIndex + endIndex) / 2)\n",
    "        \n",
    "        if(mItem == mList[target]):\n",
    "            return [True, target]\n",
    "        elif(mItem < mList[target]):\n",
    "            endIndex = target - 1\n",
    "        else:\n",
    "            startIndex = target + 1\n",
    "            \n",
    "    if(endIndex == -1):\n",
    "        return [False, startIndex]\n",
    "    if(startIndex > endIndex):\n",
    "        return [False, startIndex]\n",
    "    return [False, target]"
   ]
  },
  {
   "cell_type": "code",
   "execution_count": 144,
   "id": "dc5f5210-e204-4660-9948-788ffbd429fd",
   "metadata": {},
   "outputs": [],
   "source": [
    "df = pd.read_csv('data/champions0.csv', index_col=False, usecols=[1,2,3,4,5])\n",
    "for i in range(8):\n",
    "    df = pd.concat([df, pd.read_csv('data/champions{}.csv'.format(i * 20000), index_col=False, usecols=[1,2,3,4,5])])\n",
    "df = df.drop_duplicates()"
   ]
  },
  {
   "cell_type": "code",
   "execution_count": 145,
   "id": "851d4e50-6d54-491a-abc8-a0e52206d4d1",
   "metadata": {},
   "outputs": [],
   "source": [
    "trollerList = df[(df['kda'] < 0.15) & (df['kda'] > 0)]['matchID']"
   ]
  },
  {
   "cell_type": "code",
   "execution_count": 146,
   "id": "9ec46699-923f-440a-a7da-b7dd50882346",
   "metadata": {},
   "outputs": [],
   "source": [
    "trollerList = trollerList.sort_values()"
   ]
  },
  {
   "cell_type": "code",
   "execution_count": 147,
   "id": "4b61027c-6985-47c0-8afb-47cad0616649",
   "metadata": {},
   "outputs": [],
   "source": [
    "trollerList = trollerList.reset_index(drop=True)"
   ]
  },
  {
   "cell_type": "code",
   "execution_count": 148,
   "id": "8c48b2cd-dfcd-4bbc-adb1-7ec6f0076f10",
   "metadata": {},
   "outputs": [],
   "source": [
    "trollerList = trollerList.unique()"
   ]
  },
  {
   "cell_type": "code",
   "execution_count": 149,
   "id": "57a13c32-7840-4b45-97a7-f679679cec31",
   "metadata": {
    "tags": []
   },
   "outputs": [],
   "source": [
    "def trollerCheck(x):\n",
    "    result = binarySearchAsc(x[0], trollerList)\n",
    "    \n",
    "    if result[0] == True:\n",
    "        pass\n",
    "    else:\n",
    "        return x\n",
    "\n",
    "finalList = df.apply(trollerCheck, axis=1)"
   ]
  },
  {
   "cell_type": "code",
   "execution_count": 150,
   "id": "819faef8-0d6d-4c14-8d94-95cb9c3eeabc",
   "metadata": {},
   "outputs": [],
   "source": [
    "finalList = finalList[finalList['matchID'].isna() == False]"
   ]
  },
  {
   "cell_type": "code",
   "execution_count": 151,
   "id": "e2cbbda9-0328-4500-92c8-b1a7d44f2744",
   "metadata": {},
   "outputs": [],
   "source": [
    "finalList[finalList.columns[:-1]].to_csv('data/champions_final.csv', index=False)"
   ]
  },
  {
   "cell_type": "code",
   "execution_count": 152,
   "id": "0161c2f7-f710-46af-888b-252407c20f70",
   "metadata": {},
   "outputs": [
    {
     "data": {
      "text/html": [
       "<div>\n",
       "<style scoped>\n",
       "    .dataframe tbody tr th:only-of-type {\n",
       "        vertical-align: middle;\n",
       "    }\n",
       "\n",
       "    .dataframe tbody tr th {\n",
       "        vertical-align: top;\n",
       "    }\n",
       "\n",
       "    .dataframe thead th {\n",
       "        text-align: right;\n",
       "    }\n",
       "</style>\n",
       "<table border=\"1\" class=\"dataframe\">\n",
       "  <thead>\n",
       "    <tr style=\"text-align: right;\">\n",
       "      <th></th>\n",
       "      <th>matchID</th>\n",
       "      <th>championID</th>\n",
       "      <th>position</th>\n",
       "      <th>win</th>\n",
       "    </tr>\n",
       "  </thead>\n",
       "  <tbody>\n",
       "    <tr>\n",
       "      <th>0</th>\n",
       "      <td>KR_6007289435</td>\n",
       "      <td>268.0</td>\n",
       "      <td>TOP</td>\n",
       "      <td>False</td>\n",
       "    </tr>\n",
       "    <tr>\n",
       "      <th>1</th>\n",
       "      <td>KR_6007289435</td>\n",
       "      <td>254.0</td>\n",
       "      <td>JUNGLE</td>\n",
       "      <td>False</td>\n",
       "    </tr>\n",
       "    <tr>\n",
       "      <th>2</th>\n",
       "      <td>KR_6007289435</td>\n",
       "      <td>517.0</td>\n",
       "      <td>MIDDLE</td>\n",
       "      <td>False</td>\n",
       "    </tr>\n",
       "    <tr>\n",
       "      <th>3</th>\n",
       "      <td>KR_6007289435</td>\n",
       "      <td>221.0</td>\n",
       "      <td>BOTTOM</td>\n",
       "      <td>False</td>\n",
       "    </tr>\n",
       "    <tr>\n",
       "      <th>4</th>\n",
       "      <td>KR_6007289435</td>\n",
       "      <td>497.0</td>\n",
       "      <td>UTILITY</td>\n",
       "      <td>False</td>\n",
       "    </tr>\n",
       "    <tr>\n",
       "      <th>...</th>\n",
       "      <td>...</td>\n",
       "      <td>...</td>\n",
       "      <td>...</td>\n",
       "      <td>...</td>\n",
       "    </tr>\n",
       "    <tr>\n",
       "      <th>437575</th>\n",
       "      <td>KR_5980422724</td>\n",
       "      <td>166.0</td>\n",
       "      <td>TOP</td>\n",
       "      <td>False</td>\n",
       "    </tr>\n",
       "    <tr>\n",
       "      <th>437576</th>\n",
       "      <td>KR_5980422724</td>\n",
       "      <td>76.0</td>\n",
       "      <td>JUNGLE</td>\n",
       "      <td>False</td>\n",
       "    </tr>\n",
       "    <tr>\n",
       "      <th>437577</th>\n",
       "      <td>KR_5980422724</td>\n",
       "      <td>13.0</td>\n",
       "      <td>MIDDLE</td>\n",
       "      <td>False</td>\n",
       "    </tr>\n",
       "    <tr>\n",
       "      <th>437578</th>\n",
       "      <td>KR_5980422724</td>\n",
       "      <td>81.0</td>\n",
       "      <td>BOTTOM</td>\n",
       "      <td>False</td>\n",
       "    </tr>\n",
       "    <tr>\n",
       "      <th>437579</th>\n",
       "      <td>KR_5980422724</td>\n",
       "      <td>235.0</td>\n",
       "      <td>UTILITY</td>\n",
       "      <td>False</td>\n",
       "    </tr>\n",
       "  </tbody>\n",
       "</table>\n",
       "<p>437580 rows × 4 columns</p>\n",
       "</div>"
      ],
      "text/plain": [
       "              matchID  championID position    win\n",
       "0       KR_6007289435       268.0      TOP  False\n",
       "1       KR_6007289435       254.0   JUNGLE  False\n",
       "2       KR_6007289435       517.0   MIDDLE  False\n",
       "3       KR_6007289435       221.0   BOTTOM  False\n",
       "4       KR_6007289435       497.0  UTILITY  False\n",
       "...               ...         ...      ...    ...\n",
       "437575  KR_5980422724       166.0      TOP  False\n",
       "437576  KR_5980422724        76.0   JUNGLE  False\n",
       "437577  KR_5980422724        13.0   MIDDLE  False\n",
       "437578  KR_5980422724        81.0   BOTTOM  False\n",
       "437579  KR_5980422724       235.0  UTILITY  False\n",
       "\n",
       "[437580 rows x 4 columns]"
      ]
     },
     "execution_count": 152,
     "metadata": {},
     "output_type": "execute_result"
    }
   ],
   "source": [
    "matchdf = pd.read_csv('data/champions_final.csv')\n",
    "matchdf"
   ]
  },
  {
   "cell_type": "code",
   "execution_count": 153,
   "id": "01e103f4-27d9-4b2f-9532-e2e4b76bab32",
   "metadata": {},
   "outputs": [],
   "source": [
    "groupMatch = matchdf.groupby(['matchID', 'win'])"
   ]
  },
  {
   "cell_type": "code",
   "execution_count": 168,
   "id": "4d584226-e95b-43cf-b46c-ee0669647da2",
   "metadata": {},
   "outputs": [],
   "source": [
    "t = pd.DataFrame(groupMatch)"
   ]
  },
  {
   "cell_type": "code",
   "execution_count": 197,
   "id": "39f247c8-f2ad-4aef-af18-46246b841d5d",
   "metadata": {},
   "outputs": [],
   "source": [
    "def getChamInfo(x):\n",
    "    return x[['championID', 'position']]\n",
    "    \n",
    "chamInfo = t[1].apply(getChamInfo)"
   ]
  },
  {
   "cell_type": "code",
   "execution_count": 211,
   "id": "1a426977-d13e-4f56-a351-2dfe902c6c29",
   "metadata": {},
   "outputs": [],
   "source": [
    "resultInfo = t[0].apply(lambda x: x[1])"
   ]
  },
  {
   "cell_type": "code",
   "execution_count": 354,
   "id": "853a5c3f-d612-44ef-8e6d-8513491bec6f",
   "metadata": {},
   "outputs": [],
   "source": [
    "x_data = chamInfo.apply(lambda x : x.to_numpy().transpose()).to_numpy()"
   ]
  },
  {
   "cell_type": "code",
   "execution_count": 356,
   "id": "1ee8a607-463f-4b2f-9d2b-09c1f154e3d9",
   "metadata": {},
   "outputs": [],
   "source": [
    "y_data = resultInfo.to_numpy()"
   ]
  },
  {
   "cell_type": "code",
   "execution_count": 357,
   "id": "37433e5e-6742-4b63-9d2a-b2ed523efeb6",
   "metadata": {},
   "outputs": [
    {
     "data": {
      "text/plain": [
       "(array([[17.0, 75.0, 104.0, 81.0, 101.0],\n",
       "        ['TOP', 'JUNGLE', 'MIDDLE', 'BOTTOM', 'UTILITY']], dtype=object),\n",
       " False)"
      ]
     },
     "execution_count": 357,
     "metadata": {},
     "output_type": "execute_result"
    }
   ],
   "source": [
    "x_data[0], y_data[0]"
   ]
  },
  {
   "cell_type": "code",
   "execution_count": 366,
   "id": "1bbb8017-5374-4ec7-92aa-4717f08e253f",
   "metadata": {},
   "outputs": [],
   "source": [
    "x_data = x_data.reshape(-1, 1)"
   ]
  },
  {
   "cell_type": "code",
   "execution_count": 378,
   "id": "e0391b85-22a1-46e5-9160-8171eabd35b8",
   "metadata": {},
   "outputs": [],
   "source": [
    "x_position = np.apply_along_axis(lambda x : x[0][1], 1, x_data)"
   ]
  },
  {
   "cell_type": "code",
   "execution_count": 379,
   "id": "d4c50e8c-72ba-4f36-86b3-53b1bbb006e2",
   "metadata": {},
   "outputs": [],
   "source": [
    "x_champion = np.apply_along_axis(lambda x : x[0][0], 1, x_data)"
   ]
  },
  {
   "cell_type": "code",
   "execution_count": 61,
   "id": "b7fee79b-e124-45bf-9f5d-10de3671a742",
   "metadata": {},
   "outputs": [],
   "source": [
    "pd.DataFrame(x_position).to_csv('data/x_position.csv', index=False)"
   ]
  },
  {
   "cell_type": "code",
   "execution_count": 389,
   "id": "66d03a25-416f-4cb0-a12e-dd5354c832dc",
   "metadata": {},
   "outputs": [],
   "source": [
    "pd.DataFrame(x_champion).to_csv('data/x_champion.csv', index=False)"
   ]
  },
  {
   "cell_type": "code",
   "execution_count": 390,
   "id": "b1b87d51-a970-4ce2-bdcd-252de7b100fd",
   "metadata": {},
   "outputs": [],
   "source": [
    "pd.DataFrame(y_data).to_csv('data/y_data.csv', index=False)"
   ]
  },
  {
   "cell_type": "code",
   "execution_count": 31,
   "id": "68f2bddd-dc32-4df6-b255-7e773e75beb6",
   "metadata": {},
   "outputs": [],
   "source": [
    "x_position = pd.read_csv('data/x_position.csv').to_numpy()\n",
    "x_champion = pd.read_csv('data/x_champion.csv').to_numpy()\n",
    "y_data = pd.read_csv('data/y_data.csv').to_numpy().reshape(-1)"
   ]
  },
  {
   "cell_type": "code",
   "execution_count": 58,
   "id": "219e5d70-0d5b-48e4-8495-37de30ef8e2d",
   "metadata": {
    "tags": []
   },
   "outputs": [],
   "source": [
    "nanList = []\n",
    "for i, position in enumerate(x_position):\n",
    "    for x in position:\n",
    "        if(x not in ['TOP', 'JUNGLE', 'MIDDLE', 'BOTTOM', 'UTILITY']):\n",
    "            nanList.append(i)\n",
    "            break"
   ]
  },
  {
   "cell_type": "code",
   "execution_count": 59,
   "id": "0ac326ae-28e5-4fbb-9885-7af92e1e9532",
   "metadata": {
    "tags": []
   },
   "outputs": [
    {
     "data": {
      "text/plain": [
       "[]"
      ]
     },
     "execution_count": 59,
     "metadata": {},
     "output_type": "execute_result"
    }
   ],
   "source": [
    "nanList"
   ]
  },
  {
   "cell_type": "code",
   "execution_count": 55,
   "id": "f9b11884-eb68-4852-885f-116f5d0529cc",
   "metadata": {},
   "outputs": [],
   "source": [
    "nanConvList =  x_position[nanList]\n",
    "for position in nanConvList:\n",
    "    for i in range(5):\n",
    "        if(position[i].__class__ != 'TOP'.__class__):\n",
    "            if(i == 0):\n",
    "                position[i] = 'TOP'\n",
    "            if(i == 1):\n",
    "                position[i] = 'JUNGLE'\n",
    "            if(i == 2):\n",
    "                position[i] = 'MIDDLE'\n",
    "            if(i == 3):\n",
    "                position[i] = 'BOTTOM'\n",
    "            if(i == 4):\n",
    "                position[i] = 'UTILITY'"
   ]
  },
  {
   "cell_type": "code",
   "execution_count": 57,
   "id": "e34cd1d9-1e3f-4954-9a12-a50a477caf96",
   "metadata": {},
   "outputs": [],
   "source": [
    "for i, i0 in enumerate(nanList):\n",
    "    x_position[i0] = nanConvList[i]"
   ]
  }
 ],
 "metadata": {
  "kernelspec": {
   "display_name": "Python 3 (ipykernel)",
   "language": "python",
   "name": "python3"
  },
  "language_info": {
   "codemirror_mode": {
    "name": "ipython",
    "version": 3
   },
   "file_extension": ".py",
   "mimetype": "text/x-python",
   "name": "python",
   "nbconvert_exporter": "python",
   "pygments_lexer": "ipython3",
   "version": "3.9.12"
  }
 },
 "nbformat": 4,
 "nbformat_minor": 5
}
