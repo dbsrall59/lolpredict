{
 "cells": [
  {
   "cell_type": "code",
   "execution_count": 3,
   "id": "e83a89ee",
   "metadata": {},
   "outputs": [],
   "source": [
    "import cx_Oracle\n",
    "import os\n",
    "\n",
    "LOCATION = 'C:' + os.environ['HOMEPATH'] + '\\\\instantclient_21_6'\n",
    "os.environ['PATH'] = LOCATION + ';' + os.environ['PATH']\n",
    "os.environ['NLS_LANG'] = 'KOREAN_KOREA.KO16MSWIN949'\n",
    "\n",
    "a = cx_Oracle.connect('lolpredict','korhrd','163.152.224.168:1521')"
   ]
  },
  {
   "cell_type": "code",
   "execution_count": 2,
   "id": "53f7a7e2",
   "metadata": {},
   "outputs": [
    {
     "data": {
      "text/plain": [
       "'\\\\Users\\\\bigdata'"
      ]
     },
     "execution_count": 2,
     "metadata": {},
     "output_type": "execute_result"
    }
   ],
   "source": [
    "os.environ['HOMEPATH']"
   ]
  }
 ],
 "metadata": {
  "kernelspec": {
   "display_name": "Python 3 (ipykernel)",
   "language": "python",
   "name": "python3"
  },
  "language_info": {
   "codemirror_mode": {
    "name": "ipython",
    "version": 3
   },
   "file_extension": ".py",
   "mimetype": "text/x-python",
   "name": "python",
   "nbconvert_exporter": "python",
   "pygments_lexer": "ipython3",
   "version": "3.9.12"
  }
 },
 "nbformat": 4,
 "nbformat_minor": 5
}
