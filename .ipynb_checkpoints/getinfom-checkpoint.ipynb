{
 "cells": [
  {
   "cell_type": "code",
   "execution_count": 70,
   "id": "baffe1f8-348a-4f8d-9b9e-7765794ab93b",
   "metadata": {},
   "outputs": [],
   "source": [
    "import requests\n",
    "from urllib import parse\n",
    "import time\n",
    "from datetime import datetime\n",
    "\n",
    "import pandas as pd\n",
    "import os"
   ]
  },
  {
   "cell_type": "code",
   "execution_count": 78,
   "id": "e9aa92f8-e4bf-46d1-981b-998b28d27bc9",
   "metadata": {},
   "outputs": [],
   "source": [
    "def binarySearchAsc(mItem, mList):\n",
    "    \n",
    "    startIndex = 0\n",
    "    endIndex = len(mList) - 1\n",
    "    \n",
    "    while(startIndex <= endIndex):\n",
    "        target = int((startIndex + endIndex) / 2)\n",
    "        \n",
    "        if(mItem == mList[target]):\n",
    "            return [True, target]\n",
    "        elif(mItem < mList[target]):\n",
    "            endIndex = target - 1\n",
    "        else:\n",
    "            startIndex = target + 1\n",
    "            \n",
    "    if(endIndex == -1):\n",
    "        return [False, startIndex]\n",
    "    if(startIndex > endIndex):\n",
    "        return [False, startIndex]\n",
    "    return [False, target]"
   ]
  },
  {
   "cell_type": "code",
   "execution_count": 17,
   "id": "48a393c5-85a8-44f6-bb40-fbd694207d1f",
   "metadata": {},
   "outputs": [],
   "source": [
    "with open('apiKey.txt', 'r') as f:\n",
    "    apiKey = f.read()\n",
    "requestHeader = {\n",
    "    \"User-Agent\": \"Mozilla/5.0 (Windows NT 10.0; Win64; x64; rv:102.0) Gecko/20100101 Firefox/102.0\",\n",
    "    \"Accept-Language\": \"ko-KR,ko;q=0.8,en-US;q=0.5,en;q=0.3\",\n",
    "    \"Accept-Charset\": \"application/x-www-form-urlencoded; charset=UTF-8\",\n",
    "    \"Origin\": \"https://developer.riotgames.com\",\n",
    "    \"X-Riot-Token\": \"RGAPI-4c9fee46-1933-462b-9183-d6eee9a06b85\"\n",
    "}"
   ]
  },
  {
   "cell_type": "code",
   "execution_count": 33,
   "id": "3452d421-06fc-4a91-90b7-d394c6ab3f8b",
   "metadata": {},
   "outputs": [],
   "source": [
    "url = \"https://kr.api.riotgames.com/lol/summoner/v4/summoners/by-name/\" + \"hideonbush\"\n",
    "result = requests.get(url, headers=requestHeader)"
   ]
  },
  {
   "cell_type": "code",
   "execution_count": 35,
   "id": "349f9755-37a8-448c-8e0a-1a846a103fa6",
   "metadata": {},
   "outputs": [],
   "source": [
    "puuid = result.json()['puuid']"
   ]
  },
  {
   "cell_type": "code",
   "execution_count": 37,
   "id": "cb756f39-873e-4dbe-a327-ad5107dd8af9",
   "metadata": {},
   "outputs": [],
   "source": [
    "url = \"https://asia.api.riotgames.com/lol/match/v5/matches/by-puuid/\" + puuid + \"/ids?start=0&count=100\"\n",
    "result = requests.get(url, headers=requestHeader)"
   ]
  },
  {
   "cell_type": "code",
   "execution_count": 42,
   "id": "adaaa5e5-a7ee-4723-8af3-37ebc2ff5f65",
   "metadata": {},
   "outputs": [],
   "source": [
    "matchid = result.json()[0]"
   ]
  },
  {
   "cell_type": "code",
   "execution_count": 43,
   "id": "d2503ba3-5d53-4bad-84b9-025ade444302",
   "metadata": {},
   "outputs": [],
   "source": [
    "url = \"https://asia.api.riotgames.com/lol/match/v5/matches/\" + matchid\n",
    "result = requests.get(url, headers=requestHeader)"
   ]
  },
  {
   "cell_type": "code",
   "execution_count": 59,
   "id": "fe0a7020-ee55-4f8b-a187-0b5a1ec2ec05",
   "metadata": {},
   "outputs": [
    {
     "data": {
      "text/plain": [
       "'DmVbHxri4kdPllcuGFjibJzRjFkl66pGG5geTmWuhyPAI0aIIFbQfTGO02ecrBR4F7PfoicGFOqCxQ'"
      ]
     },
     "execution_count": 59,
     "metadata": {},
     "output_type": "execute_result"
    }
   ],
   "source": [
    "#puuid\n",
    "result.json()['metadata']['participants'][0]"
   ]
  },
  {
   "cell_type": "code",
   "execution_count": 76,
   "id": "2c120dc8-2dd5-4d4e-a6f4-be10a822c59e",
   "metadata": {},
   "outputs": [
    {
     "data": {
      "text/plain": [
       "1657040888000"
      ]
     },
     "execution_count": 76,
     "metadata": {},
     "output_type": "execute_result"
    }
   ],
   "source": [
    "ts = int(result.json()['info']['gameCreation'])\n",
    "ts"
   ]
  },
  {
   "cell_type": "code",
   "execution_count": 56,
   "id": "00222871-01eb-4365-98e5-f5737d9eb719",
   "metadata": {},
   "outputs": [],
   "source": [
    "puuidList = []\n",
    "matchList = [[], []]\n",
    "\n",
    "#csv\n",
    "puuidDf = pd.read_csv('data/puuid.csv')\n",
    "matchdf = pd.read_csv('data/match.csv')\n",
    "\n",
    "#oracle\n",
    "\n",
    "\n",
    "i0 = 0\n",
    "while(i0 < len(puuidList)):\n",
    "    url = \"https://asia.api.riotgames.com/lol/match/v5/matches/by-puuid/\" + puuidList[i0] + \"/ids?start=0&count=100\"\n",
    "    puuidResult = requests.get(url, headers=requestHeader)\n",
    "    \n",
    "    bool readAll = False\n",
    "    \n",
    "    for matchid in puuidResult.json():\n",
    "        searchMatch = binarySearchAsc(matchid, matchList[0])\n",
    "        if searchMatch[0] == True:\n",
    "            continue\n",
    "        \n",
    "        url = \"https://asia.api.riotgames.com/lol/match/v5/matches/\" + matchid\n",
    "        matchResult = requests.get(url, headers=requestHeader)\n",
    "        \n",
    "        for puuid in matchResult.json()['metadata']['participants']:\n",
    "            searchPuuid = binarySearchAsc(puuid, puuidList)\n",
    "            if searchPuuid[0] == True:\n",
    "                continue\n",
    "                \n",
    "            puuidList.insert(searchResult[1], puuid)\n",
    "        \n",
    "        matchList[0].insert(searchMatch[1], matchid)\n",
    "        matchList[1].insert(searchMatch[1], matchResult)\n",
    "        "
   ]
  }
 ],
 "metadata": {
  "kernelspec": {
   "display_name": "Python 3 (ipykernel)",
   "language": "python",
   "name": "python3"
  },
  "language_info": {
   "codemirror_mode": {
    "name": "ipython",
    "version": 3
   },
   "file_extension": ".py",
   "mimetype": "text/x-python",
   "name": "python",
   "nbconvert_exporter": "python",
   "pygments_lexer": "ipython3",
   "version": "3.9.12"
  }
 },
 "nbformat": 4,
 "nbformat_minor": 5
}
