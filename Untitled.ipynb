{
 "cells": [
  {
   "cell_type": "code",
   "execution_count": 1,
   "id": "8ca23a86",
   "metadata": {},
   "outputs": [],
   "source": [
    "import os"
   ]
  },
  {
   "cell_type": "code",
   "execution_count": 9,
   "id": "1dcecd26",
   "metadata": {
    "scrolled": true
   },
   "outputs": [
    {
     "name": "stdout",
     "output_type": "stream",
     "text": [
      "ALLUSERSPROFILE C:\\ProgramData\n",
      "APPDATA C:\\Users\\bigdata\\AppData\\Roaming\n",
      "COMMONPROGRAMFILES C:\\Program Files\\Common Files\n",
      "COMMONPROGRAMFILES(X86) C:\\Program Files (x86)\\Common Files\n",
      "COMMONPROGRAMW6432 C:\\Program Files\\Common Files\n",
      "COMPUTERNAME DESKTOP-22JD13I\n",
      "COMSPEC C:\\WINDOWS\\system32\\cmd.exe\n",
      "CONDA_DEFAULT_ENV keras\n",
      "CONDA_EXE C:\\ProgramData\\Anaconda\\Scripts\\conda.exe\n",
      "CONDA_PREFIX C:\\Users\\bigdata\\.conda\\envs\\keras\n",
      "CONDA_PREFIX_1 C:\\ProgramData\\Anaconda\n",
      "CONDA_PROMPT_MODIFIER (keras) \n",
      "CONDA_PYTHON_EXE C:\\ProgramData\\Anaconda\\python.exe\n",
      "CONDA_SHLVL 2\n",
      "DRIVERDATA C:\\Windows\\System32\\Drivers\\DriverData\n",
      "HOMEDRIVE C:\n",
      "HOMEPATH \\Users\\bigdata\n",
      "LOCALAPPDATA C:\\Users\\bigdata\\AppData\\Local\n",
      "LOGONSERVER \\\\DESKTOP-22JD13I\n",
      "NUMBER_OF_PROCESSORS 6\n",
      "ONEDRIVE C:\\Users\\bigdata\\OneDrive\n",
      "OS Windows_NT\n",
      "PATH C:\\Users\\bigdata\\.conda\\envs\\keras;C:\\Users\\bigdata\\.conda\\envs\\keras\\Library\\mingw-w64\\bin;C:\\Users\\bigdata\\.conda\\envs\\keras\\Library\\usr\\bin;C:\\Users\\bigdata\\.conda\\envs\\keras\\Library\\bin;C:\\Users\\bigdata\\.conda\\envs\\keras\\Scripts;C:\\Users\\bigdata\\.conda\\envs\\keras\\bin;C:\\ProgramData\\Anaconda\\condabin;C:\\ProgramData\\Anaconda;C:\\ProgramData\\Anaconda\\Library\\mingw-w64\\bin;C:\\ProgramData\\Anaconda\\Library\\usr\\bin;C:\\ProgramData\\Anaconda\\Library\\bin;C:\\ProgramData\\Anaconda\\Scripts;C:\\WINDOWS\\system32;C:\\WINDOWS;C:\\WINDOWS\\System32\\Wbem;C:\\WINDOWS\\System32\\WindowsPowerShell\\v1.0;C:\\WINDOWS\\System32\\OpenSSH;C:\\Program Files (x86)\\Intel\\Intel(R) Management Engine Components\\DAL;C:\\Program Files\\Intel\\Intel(R) Management Engine Components\\DAL;C:\\Program Files (x86)\\PuTTY;C:\\Program Files\\Bandizip;C:\\Users\\bigdata\\AppData\\Local\\Microsoft\\WindowsApps;.\n",
      "PATHEXT .COM;.EXE;.BAT;.CMD;.VBS;.VBE;.JS;.JSE;.WSF;.WSH;.MSC\n",
      "PROCESSOR_ARCHITECTURE AMD64\n",
      "PROCESSOR_IDENTIFIER Intel64 Family 6 Model 158 Stepping 10, GenuineIntel\n",
      "PROCESSOR_LEVEL 6\n",
      "PROCESSOR_REVISION 9e0a\n",
      "PROGRAMDATA C:\\ProgramData\n",
      "PROGRAMFILES C:\\Program Files\n",
      "PROGRAMFILES(X86) C:\\Program Files (x86)\n",
      "PROGRAMW6432 C:\\Program Files\n",
      "PROMPT (keras) $P$G\n",
      "PSMODULEPATH C:\\Program Files\\WindowsPowerShell\\Modules;C:\\WINDOWS\\system32\\WindowsPowerShell\\v1.0\\Modules\n",
      "PUBLIC C:\\Users\\Public\n",
      "SESSIONNAME Console\n",
      "SYSTEMDRIVE C:\n",
      "SYSTEMROOT C:\\WINDOWS\n",
      "TEMP C:\\Users\\bigdata\\AppData\\Local\\Temp\n",
      "TMP C:\\Users\\bigdata\\AppData\\Local\\Temp\n",
      "USERDOMAIN DESKTOP-22JD13I\n",
      "USERDOMAIN_ROAMINGPROFILE DESKTOP-22JD13I\n",
      "USERNAME bigdata\n",
      "USERPROFILE C:\\Users\\bigdata\n",
      "WINDIR C:\\WINDOWS\n",
      "PYDEVD_USE_FRAME_EVAL NO\n",
      "JPY_INTERRUPT_EVENT 2572\n",
      "IPY_INTERRUPT_EVENT 2572\n",
      "JPY_PARENT_PID 2568\n",
      "TERM xterm-color\n",
      "CLICOLOR 1\n",
      "PAGER cat\n",
      "GIT_PAGER cat\n",
      "MPLBACKEND module://matplotlib_inline.backend_inline\n"
     ]
    }
   ],
   "source": [
    "for i in os.environ:\n",
    "    print(i, os.environ[i])"
   ]
  },
  {
   "cell_type": "code",
   "execution_count": 11,
   "id": "c3d2bd01",
   "metadata": {},
   "outputs": [
    {
     "data": {
      "text/plain": [
       "['C:\\\\Users\\\\bigdata\\\\.conda\\\\envs\\\\keras',\n",
       " 'C:\\\\Users\\\\bigdata\\\\.conda\\\\envs\\\\keras\\\\Library\\\\mingw-w64\\\\bin',\n",
       " 'C:\\\\Users\\\\bigdata\\\\.conda\\\\envs\\\\keras\\\\Library\\\\usr\\\\bin',\n",
       " 'C:\\\\Users\\\\bigdata\\\\.conda\\\\envs\\\\keras\\\\Library\\\\bin',\n",
       " 'C:\\\\Users\\\\bigdata\\\\.conda\\\\envs\\\\keras\\\\Scripts',\n",
       " 'C:\\\\Users\\\\bigdata\\\\.conda\\\\envs\\\\keras\\\\bin',\n",
       " 'C:\\\\ProgramData\\\\Anaconda\\\\condabin',\n",
       " 'C:\\\\ProgramData\\\\Anaconda',\n",
       " 'C:\\\\ProgramData\\\\Anaconda\\\\Library\\\\mingw-w64\\\\bin',\n",
       " 'C:\\\\ProgramData\\\\Anaconda\\\\Library\\\\usr\\\\bin',\n",
       " 'C:\\\\ProgramData\\\\Anaconda\\\\Library\\\\bin',\n",
       " 'C:\\\\ProgramData\\\\Anaconda\\\\Scripts',\n",
       " 'C:\\\\WINDOWS\\\\system32',\n",
       " 'C:\\\\WINDOWS',\n",
       " 'C:\\\\WINDOWS\\\\System32\\\\Wbem',\n",
       " 'C:\\\\WINDOWS\\\\System32\\\\WindowsPowerShell\\\\v1.0',\n",
       " 'C:\\\\WINDOWS\\\\System32\\\\OpenSSH',\n",
       " 'C:\\\\Program Files (x86)\\\\Intel\\\\Intel(R) Management Engine Components\\\\DAL',\n",
       " 'C:\\\\Program Files\\\\Intel\\\\Intel(R) Management Engine Components\\\\DAL',\n",
       " 'C:\\\\Program Files (x86)\\\\PuTTY',\n",
       " 'C:\\\\Program Files\\\\Bandizip',\n",
       " 'C:\\\\Users\\\\bigdata\\\\AppData\\\\Local\\\\Microsoft\\\\WindowsApps',\n",
       " '.']"
      ]
     },
     "execution_count": 11,
     "metadata": {},
     "output_type": "execute_result"
    }
   ],
   "source": [
    "os.environ['path'].split(';')"
   ]
  }
 ],
 "metadata": {
  "kernelspec": {
   "display_name": "Python 3 (ipykernel)",
   "language": "python",
   "name": "python3"
  },
  "language_info": {
   "codemirror_mode": {
    "name": "ipython",
    "version": 3
   },
   "file_extension": ".py",
   "mimetype": "text/x-python",
   "name": "python",
   "nbconvert_exporter": "python",
   "pygments_lexer": "ipython3",
   "version": "3.9.12"
  }
 },
 "nbformat": 4,
 "nbformat_minor": 5
}
