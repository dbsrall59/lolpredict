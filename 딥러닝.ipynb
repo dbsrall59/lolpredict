{
 "cells": [
  {
   "cell_type": "code",
   "execution_count": 1,
   "id": "c5cb7678-1ff5-4826-ab0c-f616859d7c1c",
   "metadata": {},
   "outputs": [],
   "source": [
    "from tensorflow import keras\n",
    "from sklearn.model_selection import train_test_split\n",
    "import pandas as pd\n",
    "import numpy as np\n",
    "import os"
   ]
  },
  {
   "cell_type": "code",
   "execution_count": 2,
   "id": "cbf47de1-66be-41fa-a0ad-765641fb1591",
   "metadata": {},
   "outputs": [
    {
     "data": {
      "text/plain": [
       "(True, True)"
      ]
     },
     "execution_count": 2,
     "metadata": {},
     "output_type": "execute_result"
    }
   ],
   "source": [
    "x_position = pd.read_csv('data/x_position.csv').to_numpy()\n",
    "x_champion = pd.read_csv('data/x_champion.csv').to_numpy()\n",
    "y_data = pd.read_csv('data/y_data.csv').to_numpy().reshape(-1)\n",
    "\n",
    "x_position.shape == x_champion.shape, len(x_position) == len(y_data)"
   ]
  },
  {
   "cell_type": "code",
   "execution_count": 3,
   "id": "51416483-e77c-44ff-bb6c-8d2c73d78749",
   "metadata": {
    "tags": []
   },
   "outputs": [],
   "source": [
    "def positionToInt(x):\n",
    "    if(x == 'TOP'):\n",
    "        return 0\n",
    "    if(x == 'JUNGLE'):\n",
    "        return 1\n",
    "    if(x == 'MIDDLE'):\n",
    "        return 2\n",
    "    if(x == 'BOTTOM'):\n",
    "        return 3\n",
    "    if(x == 'UTILITY'):\n",
    "        return 4\n",
    "    \n",
    "ptiVecFunc = np.vectorize(positionToInt)\n",
    "x_position = ptiVecFunc(x_position)"
   ]
  },
  {
   "cell_type": "code",
   "execution_count": 4,
   "id": "c99ccd96-d333-4048-b300-d2134c60ed44",
   "metadata": {},
   "outputs": [],
   "source": [
    "championNumberList = np.unique(x_champion)\n",
    "def championToInt(x):\n",
    "    for i, chamNum in enumerate(championNumberList):\n",
    "        if(x == chamNum):\n",
    "            return i\n",
    "        \n",
    "ctiVecFunc = np.vectorize(championToInt)\n",
    "x_champion = ctiVecFunc(x_champion)"
   ]
  },
  {
   "cell_type": "code",
   "execution_count": 5,
   "id": "403a10b5-5707-4c89-a375-a6513e3448e3",
   "metadata": {},
   "outputs": [],
   "source": [
    "x_pos_cat = keras.utils.to_categorical(x_position)\n",
    "x_cham_cat = keras.utils.to_categorical(x_champion)"
   ]
  },
  {
   "cell_type": "code",
   "execution_count": 43,
   "id": "e54da964-6121-4f05-82a2-b85c669d132f",
   "metadata": {},
   "outputs": [],
   "source": [
    "x_train_pos, x_test_pos, x_train_cham, x_test_cham, y_train, y_test = train_test_split(x_pos_cat, x_cham_cat, y_data, test_size=0.2)"
   ]
  },
  {
   "cell_type": "markdown",
   "id": "f2e7fe0d-3ff3-4a83-8659-9adaad7ba68b",
   "metadata": {},
   "source": [
    "x_train_pos : 포지션의 훈련데이터  \n",
    "x_test_pos : 포지션의 검증데이터  \n",
    "x_train_cham : 챔피언의 훈련데이터  \n",
    "x_test_cham : 챔피언의 검증데이터  \n",
    "y_train : 결과값의 훈련 데이터  \n",
    "y_test : 결과값의 검증데이터  "
   ]
  },
  {
   "cell_type": "markdown",
   "id": "fbfee6a6-034e-4477-a7a7-b1e6fb216b09",
   "metadata": {},
   "source": [
    "###########여기까지가 데이터 설정"
   ]
  },
  {
   "cell_type": "code",
   "execution_count": 16,
   "id": "20d3a473-6ea4-4a5c-93e0-9931be0d3a15",
   "metadata": {},
   "outputs": [],
   "source": [
    "posInput = keras.layers.Input(shape = x_pos_cat[0].shape)\n",
    "chamInput = keras.layers.Input(shape = x_cham_cat[0].shape)"
   ]
  },
  {
   "cell_type": "code",
   "execution_count": 17,
   "id": "8d7502b4-6bb8-490c-b419-a4f6dea6d1e7",
   "metadata": {},
   "outputs": [],
   "source": [
    "posHide = keras.layers.Dense(100, activation='relu')(posInput)\n",
    "chamHide = keras.layers.Dense(1000, activation='relu')(chamInput)"
   ]
  },
  {
   "cell_type": "code",
   "execution_count": 18,
   "id": "140e157d-53b0-4de5-a48c-5c1ad87a0275",
   "metadata": {},
   "outputs": [],
   "source": [
    "posHide = keras.models.Model(inputs=posInput, outputs = posHide)\n",
    "chamHide = keras.models.Model(inputs=chamInput, outputs = chamHide)"
   ]
  },
  {
   "cell_type": "code",
   "execution_count": 19,
   "id": "742fd91d-593a-4d6a-8812-5ce2cc4f5646",
   "metadata": {},
   "outputs": [],
   "source": [
    "concatLayer = keras.layers.concatenate([posHide.output, chamHide.output])"
   ]
  },
  {
   "cell_type": "code",
   "execution_count": 20,
   "id": "06b9780a-92b7-46cc-a7eb-f3d7b9c1d931",
   "metadata": {},
   "outputs": [],
   "source": [
    "lolLayer = keras.layers.Dense(50, activation='relu')(concatLayer)"
   ]
  },
  {
   "cell_type": "code",
   "execution_count": 21,
   "id": "46907c5a-c5f0-4606-9db7-2fc79443f7a7",
   "metadata": {},
   "outputs": [],
   "source": [
    "lolLayer = keras.layers.Dense(2, activation='relu')(lolLayer)"
   ]
  },
  {
   "cell_type": "code",
   "execution_count": 22,
   "id": "ebdbf9db-3e5f-4d0c-a724-32c28d0c93ee",
   "metadata": {},
   "outputs": [],
   "source": [
    "lolLayer = keras.layers.Dense(1, activation='sigmoid')(lolLayer)"
   ]
  },
  {
   "cell_type": "code",
   "execution_count": 23,
   "id": "e8571136-5c20-4f82-9725-973df45490d9",
   "metadata": {},
   "outputs": [],
   "source": [
    "model = keras.models.Model(inputs=[posHide.input, chamHide.input], outputs=lolLayer)"
   ]
  },
  {
   "cell_type": "code",
   "execution_count": 24,
   "id": "8b297b4a-954a-4390-8e52-c865f2dbb50c",
   "metadata": {},
   "outputs": [],
   "source": [
    "model.compile(optimizer='adam', metrics='accuracy', loss=keras.losses.mean_squared_error)"
   ]
  },
  {
   "cell_type": "code",
   "execution_count": 25,
   "id": "8788d2cc-b52b-40e3-a058-107aa8044d8b",
   "metadata": {
    "collapsed": true,
    "jupyter": {
     "outputs_hidden": true
    },
    "tags": []
   },
   "outputs": [
    {
     "name": "stdout",
     "output_type": "stream",
     "text": [
      "Epoch 1/100\n",
      "2735/2735 [==============================] - 9s 3ms/step - loss: 0.2500 - accuracy: 0.4998\n",
      "Epoch 2/100\n",
      "2735/2735 [==============================] - 9s 3ms/step - loss: 0.2500 - accuracy: 0.4980\n",
      "Epoch 3/100\n",
      "2735/2735 [==============================] - 9s 3ms/step - loss: 0.2500 - accuracy: 0.4984\n",
      "Epoch 4/100\n",
      "2735/2735 [==============================] - 8s 3ms/step - loss: 0.2500 - accuracy: 0.4971\n",
      "Epoch 5/100\n",
      "2735/2735 [==============================] - 8s 3ms/step - loss: 0.2500 - accuracy: 0.5003\n",
      "Epoch 6/100\n",
      "2735/2735 [==============================] - 8s 3ms/step - loss: 0.2500 - accuracy: 0.5007\n",
      "Epoch 7/100\n",
      "2735/2735 [==============================] - 8s 3ms/step - loss: 0.2500 - accuracy: 0.4971\n",
      "Epoch 8/100\n",
      "2735/2735 [==============================] - 8s 3ms/step - loss: 0.2500 - accuracy: 0.4985\n",
      "Epoch 9/100\n",
      "2735/2735 [==============================] - 8s 3ms/step - loss: 0.2500 - accuracy: 0.5001\n",
      "Epoch 10/100\n",
      "2735/2735 [==============================] - 8s 3ms/step - loss: 0.2500 - accuracy: 0.4974\n",
      "Epoch 11/100\n",
      "2735/2735 [==============================] - 8s 3ms/step - loss: 0.2500 - accuracy: 0.5015\n",
      "Epoch 12/100\n",
      "2735/2735 [==============================] - 8s 3ms/step - loss: 0.2500 - accuracy: 0.4968\n",
      "Epoch 13/100\n",
      "2735/2735 [==============================] - 8s 3ms/step - loss: 0.2500 - accuracy: 0.5000\n",
      "Epoch 14/100\n",
      "2735/2735 [==============================] - 6s 2ms/step - loss: 0.2500 - accuracy: 0.5008\n",
      "Epoch 15/100\n",
      "2735/2735 [==============================] - 6s 2ms/step - loss: 0.2500 - accuracy: 0.5010\n",
      "Epoch 16/100\n",
      "2735/2735 [==============================] - 6s 2ms/step - loss: 0.2500 - accuracy: 0.4957\n",
      "Epoch 17/100\n",
      "2735/2735 [==============================] - 6s 2ms/step - loss: 0.2500 - accuracy: 0.5016\n",
      "Epoch 18/100\n",
      "2735/2735 [==============================] - 6s 2ms/step - loss: 0.2500 - accuracy: 0.4977\n",
      "Epoch 19/100\n",
      "2735/2735 [==============================] - 6s 2ms/step - loss: 0.2500 - accuracy: 0.4984\n",
      "Epoch 20/100\n",
      "2735/2735 [==============================] - 6s 2ms/step - loss: 0.2500 - accuracy: 0.4991\n",
      "Epoch 21/100\n",
      "2735/2735 [==============================] - 6s 2ms/step - loss: 0.2500 - accuracy: 0.5000\n",
      "Epoch 22/100\n",
      "2735/2735 [==============================] - 6s 2ms/step - loss: 0.2500 - accuracy: 0.5033\n",
      "Epoch 23/100\n",
      "2735/2735 [==============================] - 6s 2ms/step - loss: 0.2500 - accuracy: 0.4989\n",
      "Epoch 24/100\n",
      "2735/2735 [==============================] - 6s 2ms/step - loss: 0.2500 - accuracy: 0.4976\n",
      "Epoch 25/100\n",
      "2735/2735 [==============================] - 6s 2ms/step - loss: 0.2500 - accuracy: 0.4981\n",
      "Epoch 26/100\n",
      "2735/2735 [==============================] - 6s 2ms/step - loss: 0.2500 - accuracy: 0.5024\n",
      "Epoch 27/100\n",
      "2735/2735 [==============================] - 6s 2ms/step - loss: 0.2500 - accuracy: 0.5004\n",
      "Epoch 28/100\n",
      "2735/2735 [==============================] - 6s 2ms/step - loss: 0.2500 - accuracy: 0.4989\n",
      "Epoch 29/100\n",
      "2735/2735 [==============================] - 6s 2ms/step - loss: 0.2500 - accuracy: 0.5024\n",
      "Epoch 30/100\n",
      "2735/2735 [==============================] - 6s 2ms/step - loss: 0.2500 - accuracy: 0.4969\n",
      "Epoch 31/100\n",
      "2735/2735 [==============================] - 6s 2ms/step - loss: 0.2500 - accuracy: 0.4981\n",
      "Epoch 32/100\n",
      "2735/2735 [==============================] - 6s 2ms/step - loss: 0.2500 - accuracy: 0.5020\n",
      "Epoch 33/100\n",
      "2735/2735 [==============================] - 6s 2ms/step - loss: 0.2500 - accuracy: 0.4972\n",
      "Epoch 34/100\n",
      "2735/2735 [==============================] - 6s 2ms/step - loss: 0.2500 - accuracy: 0.5005\n",
      "Epoch 35/100\n",
      "2735/2735 [==============================] - 6s 2ms/step - loss: 0.2500 - accuracy: 0.5001\n",
      "Epoch 36/100\n",
      "2735/2735 [==============================] - 6s 2ms/step - loss: 0.2500 - accuracy: 0.4991\n",
      "Epoch 37/100\n",
      "2735/2735 [==============================] - 6s 2ms/step - loss: 0.2500 - accuracy: 0.4994\n",
      "Epoch 38/100\n",
      "2735/2735 [==============================] - 6s 2ms/step - loss: 0.2500 - accuracy: 0.5013\n",
      "Epoch 39/100\n",
      "2735/2735 [==============================] - 6s 2ms/step - loss: 0.2500 - accuracy: 0.4963\n",
      "Epoch 40/100\n",
      "2735/2735 [==============================] - 6s 2ms/step - loss: 0.2500 - accuracy: 0.5009\n",
      "Epoch 41/100\n",
      "2735/2735 [==============================] - 6s 2ms/step - loss: 0.2500 - accuracy: 0.4989\n",
      "Epoch 42/100\n",
      "2735/2735 [==============================] - 6s 2ms/step - loss: 0.2500 - accuracy: 0.4989\n",
      "Epoch 43/100\n",
      "2735/2735 [==============================] - 6s 2ms/step - loss: 0.2500 - accuracy: 0.5013\n",
      "Epoch 44/100\n",
      "2735/2735 [==============================] - 6s 2ms/step - loss: 0.2500 - accuracy: 0.5013\n",
      "Epoch 45/100\n",
      "2735/2735 [==============================] - 6s 2ms/step - loss: 0.2500 - accuracy: 0.5006\n",
      "Epoch 46/100\n",
      "2735/2735 [==============================] - 6s 2ms/step - loss: 0.2500 - accuracy: 0.5000\n",
      "Epoch 47/100\n",
      "2735/2735 [==============================] - 6s 2ms/step - loss: 0.2500 - accuracy: 0.4976\n",
      "Epoch 48/100\n",
      "2735/2735 [==============================] - 6s 2ms/step - loss: 0.2500 - accuracy: 0.4982\n",
      "Epoch 49/100\n",
      "2735/2735 [==============================] - 6s 2ms/step - loss: 0.2500 - accuracy: 0.4995\n",
      "Epoch 50/100\n",
      "2735/2735 [==============================] - 6s 2ms/step - loss: 0.2500 - accuracy: 0.4993\n",
      "Epoch 51/100\n",
      "2735/2735 [==============================] - 6s 2ms/step - loss: 0.2500 - accuracy: 0.4990\n",
      "Epoch 52/100\n",
      "2735/2735 [==============================] - 6s 2ms/step - loss: 0.2500 - accuracy: 0.4993\n",
      "Epoch 53/100\n",
      "2735/2735 [==============================] - 6s 2ms/step - loss: 0.2500 - accuracy: 0.4987\n",
      "Epoch 54/100\n",
      "2735/2735 [==============================] - 6s 2ms/step - loss: 0.2500 - accuracy: 0.4974\n",
      "Epoch 55/100\n",
      "2735/2735 [==============================] - 6s 2ms/step - loss: 0.2500 - accuracy: 0.4978\n",
      "Epoch 56/100\n",
      "2735/2735 [==============================] - 6s 2ms/step - loss: 0.2500 - accuracy: 0.4987\n",
      "Epoch 57/100\n",
      "2735/2735 [==============================] - 6s 2ms/step - loss: 0.2500 - accuracy: 0.4978\n",
      "Epoch 58/100\n",
      "2735/2735 [==============================] - 6s 2ms/step - loss: 0.2500 - accuracy: 0.4955\n",
      "Epoch 59/100\n",
      "2735/2735 [==============================] - 6s 2ms/step - loss: 0.2500 - accuracy: 0.4994\n",
      "Epoch 60/100\n",
      "2735/2735 [==============================] - 6s 2ms/step - loss: 0.2500 - accuracy: 0.4978\n",
      "Epoch 61/100\n",
      "2735/2735 [==============================] - 6s 2ms/step - loss: 0.2500 - accuracy: 0.4979\n",
      "Epoch 62/100\n",
      "2735/2735 [==============================] - 6s 2ms/step - loss: 0.2500 - accuracy: 0.4996\n",
      "Epoch 63/100\n",
      "2735/2735 [==============================] - 6s 2ms/step - loss: 0.2500 - accuracy: 0.4997\n",
      "Epoch 64/100\n",
      "2735/2735 [==============================] - 6s 2ms/step - loss: 0.2500 - accuracy: 0.4989\n",
      "Epoch 65/100\n",
      "2735/2735 [==============================] - 6s 2ms/step - loss: 0.2500 - accuracy: 0.4982\n",
      "Epoch 66/100\n",
      "2735/2735 [==============================] - 7s 2ms/step - loss: 0.2500 - accuracy: 0.4988\n",
      "Epoch 67/100\n",
      "2735/2735 [==============================] - 6s 2ms/step - loss: 0.2500 - accuracy: 0.5012\n",
      "Epoch 68/100\n",
      "2735/2735 [==============================] - 6s 2ms/step - loss: 0.2500 - accuracy: 0.5017\n",
      "Epoch 69/100\n",
      "2735/2735 [==============================] - 6s 2ms/step - loss: 0.2500 - accuracy: 0.4992\n",
      "Epoch 70/100\n",
      "2735/2735 [==============================] - 6s 2ms/step - loss: 0.2500 - accuracy: 0.4989\n",
      "Epoch 71/100\n",
      "2735/2735 [==============================] - 6s 2ms/step - loss: 0.2500 - accuracy: 0.4999\n",
      "Epoch 72/100\n",
      "2735/2735 [==============================] - 6s 2ms/step - loss: 0.2500 - accuracy: 0.4998\n",
      "Epoch 73/100\n",
      "2735/2735 [==============================] - 6s 2ms/step - loss: 0.2500 - accuracy: 0.4998\n",
      "Epoch 74/100\n",
      "2735/2735 [==============================] - 6s 2ms/step - loss: 0.2500 - accuracy: 0.4999\n",
      "Epoch 75/100\n",
      "2735/2735 [==============================] - 6s 2ms/step - loss: 0.2500 - accuracy: 0.5001\n",
      "Epoch 76/100\n",
      "2735/2735 [==============================] - 6s 2ms/step - loss: 0.2500 - accuracy: 0.4980\n",
      "Epoch 77/100\n",
      "2735/2735 [==============================] - 6s 2ms/step - loss: 0.2500 - accuracy: 0.4987\n",
      "Epoch 78/100\n",
      "2735/2735 [==============================] - 6s 2ms/step - loss: 0.2500 - accuracy: 0.4995\n",
      "Epoch 79/100\n",
      "2735/2735 [==============================] - 6s 2ms/step - loss: 0.2500 - accuracy: 0.5007\n",
      "Epoch 80/100\n",
      "2735/2735 [==============================] - 6s 2ms/step - loss: 0.2500 - accuracy: 0.4999\n",
      "Epoch 81/100\n",
      "2735/2735 [==============================] - 6s 2ms/step - loss: 0.2500 - accuracy: 0.5003\n",
      "Epoch 82/100\n",
      "2735/2735 [==============================] - 6s 2ms/step - loss: 0.2500 - accuracy: 0.4955\n",
      "Epoch 83/100\n",
      "2735/2735 [==============================] - 6s 2ms/step - loss: 0.2500 - accuracy: 0.5003\n",
      "Epoch 84/100\n",
      "2735/2735 [==============================] - 6s 2ms/step - loss: 0.2500 - accuracy: 0.5000\n",
      "Epoch 85/100\n",
      "2735/2735 [==============================] - 6s 2ms/step - loss: 0.2500 - accuracy: 0.4997\n",
      "Epoch 86/100\n",
      "2735/2735 [==============================] - 6s 2ms/step - loss: 0.2500 - accuracy: 0.4982\n",
      "Epoch 87/100\n",
      "2735/2735 [==============================] - 6s 2ms/step - loss: 0.2500 - accuracy: 0.4988\n",
      "Epoch 88/100\n",
      "2735/2735 [==============================] - 6s 2ms/step - loss: 0.2500 - accuracy: 0.4988\n",
      "Epoch 89/100\n",
      "2735/2735 [==============================] - 6s 2ms/step - loss: 0.2500 - accuracy: 0.4993\n",
      "Epoch 90/100\n",
      "2735/2735 [==============================] - 6s 2ms/step - loss: 0.2500 - accuracy: 0.4981\n",
      "Epoch 91/100\n",
      "2735/2735 [==============================] - 6s 2ms/step - loss: 0.2500 - accuracy: 0.4991\n",
      "Epoch 92/100\n",
      "2735/2735 [==============================] - 7s 2ms/step - loss: 0.2500 - accuracy: 0.4979\n",
      "Epoch 93/100\n",
      "2735/2735 [==============================] - 6s 2ms/step - loss: 0.2500 - accuracy: 0.4976\n",
      "Epoch 94/100\n",
      "2735/2735 [==============================] - 6s 2ms/step - loss: 0.2500 - accuracy: 0.4996\n",
      "Epoch 95/100\n",
      "2735/2735 [==============================] - 6s 2ms/step - loss: 0.2500 - accuracy: 0.4990\n",
      "Epoch 96/100\n",
      "2735/2735 [==============================] - 6s 2ms/step - loss: 0.2500 - accuracy: 0.4972\n",
      "Epoch 97/100\n",
      "2735/2735 [==============================] - 7s 2ms/step - loss: 0.2500 - accuracy: 0.4994\n",
      "Epoch 98/100\n",
      "2735/2735 [==============================] - 7s 2ms/step - loss: 0.2500 - accuracy: 0.4995\n",
      "Epoch 99/100\n",
      "2735/2735 [==============================] - 7s 3ms/step - loss: 0.2500 - accuracy: 0.4965\n",
      "Epoch 100/100\n",
      "2735/2735 [==============================] - 6s 2ms/step - loss: 0.2500 - accuracy: 0.4993\n"
     ]
    },
    {
     "data": {
      "text/plain": [
       "<keras.callbacks.History at 0x1a8537d1cd0>"
      ]
     },
     "execution_count": 25,
     "metadata": {},
     "output_type": "execute_result"
    }
   ],
   "source": [
    "model.fit([x_pos_cat, x_cham_cat], y_data, epochs=100)"
   ]
  },
  {
   "cell_type": "code",
   "execution_count": 120,
   "id": "69ee2ae9-cf11-4fe7-b1a5-82079f88a53d",
   "metadata": {},
   "outputs": [],
   "source": [
    "chamInput = keras.layers.Input(shape = x_cham_cat[0].shape)\n",
    "chamHide0 = keras.layers.Dense(100, activation='relu')(chamInput)\n",
    "chamHide1 = keras.layers.Dense(10, activation='relu')(chamHide0)\n",
    "chamHide2 = keras.layers.Dense(1, activation='sigmoid')(chamHide1)"
   ]
  },
  {
   "cell_type": "code",
   "execution_count": 121,
   "id": "4e8b8373-1706-4f05-8f1f-50fff86790db",
   "metadata": {},
   "outputs": [],
   "source": [
    "model2 = keras.models.Model(inputs=chamInput, outputs=chamHide2)"
   ]
  },
  {
   "cell_type": "code",
   "execution_count": 89,
   "id": "9e40dc71-a0ac-4dc5-978b-d0c5b98200db",
   "metadata": {},
   "outputs": [],
   "source": [
    "model2 = keras.models.Sequential([\n",
    "    keras.layers.Flatten(input_shape = x_cham_cat[0].shape),\n",
    "    keras.layers.Dense(100, activation='relu'),\n",
    "    keras.layers.Dense(10, activation='relu'),\n",
    "    keras.layers.Dense(1, activation='sigmoid')\n",
    "])"
   ]
  },
  {
   "cell_type": "code",
   "execution_count": 122,
   "id": "0b13680b-9e45-4ab3-9a1e-5e5272a3d070",
   "metadata": {},
   "outputs": [],
   "source": [
    "model2.compile(optimizer='adam', metrics='accuracy', loss=keras.losses.mean_squared_error)"
   ]
  },
  {
   "cell_type": "code",
   "execution_count": 123,
   "id": "d0f70e1e-0d0f-4958-aeb2-ec23a81c646d",
   "metadata": {},
   "outputs": [
    {
     "name": "stdout",
     "output_type": "stream",
     "text": [
      "Epoch 1/10\n",
      "2188/2188 [==============================] - 3s 1ms/step - loss: 0.2500 - accuracy: 0.5024\n",
      "Epoch 2/10\n",
      "2188/2188 [==============================] - 3s 1ms/step - loss: 0.2500 - accuracy: 0.5017\n",
      "Epoch 3/10\n",
      " 395/2188 [====>.........................] - ETA: 2s - loss: 0.2500 - accuracy: 0.5025"
     ]
    },
    {
     "ename": "KeyboardInterrupt",
     "evalue": "",
     "output_type": "error",
     "traceback": [
      "\u001b[1;31m---------------------------------------------------------------------------\u001b[0m",
      "\u001b[1;31mKeyboardInterrupt\u001b[0m                         Traceback (most recent call last)",
      "Input \u001b[1;32mIn [123]\u001b[0m, in \u001b[0;36m<cell line: 1>\u001b[1;34m()\u001b[0m\n\u001b[1;32m----> 1\u001b[0m \u001b[43mmodel2\u001b[49m\u001b[38;5;241;43m.\u001b[39;49m\u001b[43mfit\u001b[49m\u001b[43m(\u001b[49m\u001b[43mx_train_cham\u001b[49m\u001b[43m,\u001b[49m\u001b[43m \u001b[49m\u001b[43my_train\u001b[49m\u001b[43m,\u001b[49m\u001b[43m \u001b[49m\u001b[43mepochs\u001b[49m\u001b[38;5;241;43m=\u001b[39;49m\u001b[38;5;241;43m10\u001b[39;49m\u001b[43m)\u001b[49m\n",
      "File \u001b[1;32m~\\.conda\\envs\\keras\\lib\\site-packages\\keras\\utils\\traceback_utils.py:64\u001b[0m, in \u001b[0;36mfilter_traceback.<locals>.error_handler\u001b[1;34m(*args, **kwargs)\u001b[0m\n\u001b[0;32m     62\u001b[0m filtered_tb \u001b[38;5;241m=\u001b[39m \u001b[38;5;28;01mNone\u001b[39;00m\n\u001b[0;32m     63\u001b[0m \u001b[38;5;28;01mtry\u001b[39;00m:\n\u001b[1;32m---> 64\u001b[0m   \u001b[38;5;28;01mreturn\u001b[39;00m fn(\u001b[38;5;241m*\u001b[39margs, \u001b[38;5;241m*\u001b[39m\u001b[38;5;241m*\u001b[39mkwargs)\n\u001b[0;32m     65\u001b[0m \u001b[38;5;28;01mexcept\u001b[39;00m \u001b[38;5;167;01mException\u001b[39;00m \u001b[38;5;28;01mas\u001b[39;00m e:  \u001b[38;5;66;03m# pylint: disable=broad-except\u001b[39;00m\n\u001b[0;32m     66\u001b[0m   filtered_tb \u001b[38;5;241m=\u001b[39m _process_traceback_frames(e\u001b[38;5;241m.\u001b[39m__traceback__)\n",
      "File \u001b[1;32m~\\.conda\\envs\\keras\\lib\\site-packages\\keras\\engine\\training.py:1409\u001b[0m, in \u001b[0;36mModel.fit\u001b[1;34m(self, x, y, batch_size, epochs, verbose, callbacks, validation_split, validation_data, shuffle, class_weight, sample_weight, initial_epoch, steps_per_epoch, validation_steps, validation_batch_size, validation_freq, max_queue_size, workers, use_multiprocessing)\u001b[0m\n\u001b[0;32m   1402\u001b[0m \u001b[38;5;28;01mwith\u001b[39;00m tf\u001b[38;5;241m.\u001b[39mprofiler\u001b[38;5;241m.\u001b[39mexperimental\u001b[38;5;241m.\u001b[39mTrace(\n\u001b[0;32m   1403\u001b[0m     \u001b[38;5;124m'\u001b[39m\u001b[38;5;124mtrain\u001b[39m\u001b[38;5;124m'\u001b[39m,\n\u001b[0;32m   1404\u001b[0m     epoch_num\u001b[38;5;241m=\u001b[39mepoch,\n\u001b[0;32m   1405\u001b[0m     step_num\u001b[38;5;241m=\u001b[39mstep,\n\u001b[0;32m   1406\u001b[0m     batch_size\u001b[38;5;241m=\u001b[39mbatch_size,\n\u001b[0;32m   1407\u001b[0m     _r\u001b[38;5;241m=\u001b[39m\u001b[38;5;241m1\u001b[39m):\n\u001b[0;32m   1408\u001b[0m   callbacks\u001b[38;5;241m.\u001b[39mon_train_batch_begin(step)\n\u001b[1;32m-> 1409\u001b[0m   tmp_logs \u001b[38;5;241m=\u001b[39m \u001b[38;5;28;43mself\u001b[39;49m\u001b[38;5;241;43m.\u001b[39;49m\u001b[43mtrain_function\u001b[49m\u001b[43m(\u001b[49m\u001b[43miterator\u001b[49m\u001b[43m)\u001b[49m\n\u001b[0;32m   1410\u001b[0m   \u001b[38;5;28;01mif\u001b[39;00m data_handler\u001b[38;5;241m.\u001b[39mshould_sync:\n\u001b[0;32m   1411\u001b[0m     context\u001b[38;5;241m.\u001b[39masync_wait()\n",
      "File \u001b[1;32m~\\.conda\\envs\\keras\\lib\\site-packages\\tensorflow\\python\\util\\traceback_utils.py:150\u001b[0m, in \u001b[0;36mfilter_traceback.<locals>.error_handler\u001b[1;34m(*args, **kwargs)\u001b[0m\n\u001b[0;32m    148\u001b[0m filtered_tb \u001b[38;5;241m=\u001b[39m \u001b[38;5;28;01mNone\u001b[39;00m\n\u001b[0;32m    149\u001b[0m \u001b[38;5;28;01mtry\u001b[39;00m:\n\u001b[1;32m--> 150\u001b[0m   \u001b[38;5;28;01mreturn\u001b[39;00m fn(\u001b[38;5;241m*\u001b[39margs, \u001b[38;5;241m*\u001b[39m\u001b[38;5;241m*\u001b[39mkwargs)\n\u001b[0;32m    151\u001b[0m \u001b[38;5;28;01mexcept\u001b[39;00m \u001b[38;5;167;01mException\u001b[39;00m \u001b[38;5;28;01mas\u001b[39;00m e:\n\u001b[0;32m    152\u001b[0m   filtered_tb \u001b[38;5;241m=\u001b[39m _process_traceback_frames(e\u001b[38;5;241m.\u001b[39m__traceback__)\n",
      "File \u001b[1;32m~\\.conda\\envs\\keras\\lib\\site-packages\\tensorflow\\python\\eager\\def_function.py:915\u001b[0m, in \u001b[0;36mFunction.__call__\u001b[1;34m(self, *args, **kwds)\u001b[0m\n\u001b[0;32m    912\u001b[0m compiler \u001b[38;5;241m=\u001b[39m \u001b[38;5;124m\"\u001b[39m\u001b[38;5;124mxla\u001b[39m\u001b[38;5;124m\"\u001b[39m \u001b[38;5;28;01mif\u001b[39;00m \u001b[38;5;28mself\u001b[39m\u001b[38;5;241m.\u001b[39m_jit_compile \u001b[38;5;28;01melse\u001b[39;00m \u001b[38;5;124m\"\u001b[39m\u001b[38;5;124mnonXla\u001b[39m\u001b[38;5;124m\"\u001b[39m\n\u001b[0;32m    914\u001b[0m \u001b[38;5;28;01mwith\u001b[39;00m OptionalXlaContext(\u001b[38;5;28mself\u001b[39m\u001b[38;5;241m.\u001b[39m_jit_compile):\n\u001b[1;32m--> 915\u001b[0m   result \u001b[38;5;241m=\u001b[39m \u001b[38;5;28mself\u001b[39m\u001b[38;5;241m.\u001b[39m_call(\u001b[38;5;241m*\u001b[39margs, \u001b[38;5;241m*\u001b[39m\u001b[38;5;241m*\u001b[39mkwds)\n\u001b[0;32m    917\u001b[0m new_tracing_count \u001b[38;5;241m=\u001b[39m \u001b[38;5;28mself\u001b[39m\u001b[38;5;241m.\u001b[39mexperimental_get_tracing_count()\n\u001b[0;32m    918\u001b[0m without_tracing \u001b[38;5;241m=\u001b[39m (tracing_count \u001b[38;5;241m==\u001b[39m new_tracing_count)\n",
      "File \u001b[1;32m~\\.conda\\envs\\keras\\lib\\site-packages\\tensorflow\\python\\eager\\def_function.py:947\u001b[0m, in \u001b[0;36mFunction._call\u001b[1;34m(self, *args, **kwds)\u001b[0m\n\u001b[0;32m    944\u001b[0m   \u001b[38;5;28mself\u001b[39m\u001b[38;5;241m.\u001b[39m_lock\u001b[38;5;241m.\u001b[39mrelease()\n\u001b[0;32m    945\u001b[0m   \u001b[38;5;66;03m# In this case we have created variables on the first call, so we run the\u001b[39;00m\n\u001b[0;32m    946\u001b[0m   \u001b[38;5;66;03m# defunned version which is guaranteed to never create variables.\u001b[39;00m\n\u001b[1;32m--> 947\u001b[0m   \u001b[38;5;28;01mreturn\u001b[39;00m \u001b[38;5;28mself\u001b[39m\u001b[38;5;241m.\u001b[39m_stateless_fn(\u001b[38;5;241m*\u001b[39margs, \u001b[38;5;241m*\u001b[39m\u001b[38;5;241m*\u001b[39mkwds)  \u001b[38;5;66;03m# pylint: disable=not-callable\u001b[39;00m\n\u001b[0;32m    948\u001b[0m \u001b[38;5;28;01melif\u001b[39;00m \u001b[38;5;28mself\u001b[39m\u001b[38;5;241m.\u001b[39m_stateful_fn \u001b[38;5;129;01mis\u001b[39;00m \u001b[38;5;129;01mnot\u001b[39;00m \u001b[38;5;28;01mNone\u001b[39;00m:\n\u001b[0;32m    949\u001b[0m   \u001b[38;5;66;03m# Release the lock early so that multiple threads can perform the call\u001b[39;00m\n\u001b[0;32m    950\u001b[0m   \u001b[38;5;66;03m# in parallel.\u001b[39;00m\n\u001b[0;32m    951\u001b[0m   \u001b[38;5;28mself\u001b[39m\u001b[38;5;241m.\u001b[39m_lock\u001b[38;5;241m.\u001b[39mrelease()\n",
      "File \u001b[1;32m~\\.conda\\envs\\keras\\lib\\site-packages\\tensorflow\\python\\eager\\function.py:2453\u001b[0m, in \u001b[0;36mFunction.__call__\u001b[1;34m(self, *args, **kwargs)\u001b[0m\n\u001b[0;32m   2450\u001b[0m \u001b[38;5;28;01mwith\u001b[39;00m \u001b[38;5;28mself\u001b[39m\u001b[38;5;241m.\u001b[39m_lock:\n\u001b[0;32m   2451\u001b[0m   (graph_function,\n\u001b[0;32m   2452\u001b[0m    filtered_flat_args) \u001b[38;5;241m=\u001b[39m \u001b[38;5;28mself\u001b[39m\u001b[38;5;241m.\u001b[39m_maybe_define_function(args, kwargs)\n\u001b[1;32m-> 2453\u001b[0m \u001b[38;5;28;01mreturn\u001b[39;00m \u001b[43mgraph_function\u001b[49m\u001b[38;5;241;43m.\u001b[39;49m\u001b[43m_call_flat\u001b[49m\u001b[43m(\u001b[49m\n\u001b[0;32m   2454\u001b[0m \u001b[43m    \u001b[49m\u001b[43mfiltered_flat_args\u001b[49m\u001b[43m,\u001b[49m\u001b[43m \u001b[49m\u001b[43mcaptured_inputs\u001b[49m\u001b[38;5;241;43m=\u001b[39;49m\u001b[43mgraph_function\u001b[49m\u001b[38;5;241;43m.\u001b[39;49m\u001b[43mcaptured_inputs\u001b[49m\u001b[43m)\u001b[49m\n",
      "File \u001b[1;32m~\\.conda\\envs\\keras\\lib\\site-packages\\tensorflow\\python\\eager\\function.py:1860\u001b[0m, in \u001b[0;36mConcreteFunction._call_flat\u001b[1;34m(self, args, captured_inputs, cancellation_manager)\u001b[0m\n\u001b[0;32m   1856\u001b[0m possible_gradient_type \u001b[38;5;241m=\u001b[39m gradients_util\u001b[38;5;241m.\u001b[39mPossibleTapeGradientTypes(args)\n\u001b[0;32m   1857\u001b[0m \u001b[38;5;28;01mif\u001b[39;00m (possible_gradient_type \u001b[38;5;241m==\u001b[39m gradients_util\u001b[38;5;241m.\u001b[39mPOSSIBLE_GRADIENT_TYPES_NONE\n\u001b[0;32m   1858\u001b[0m     \u001b[38;5;129;01mand\u001b[39;00m executing_eagerly):\n\u001b[0;32m   1859\u001b[0m   \u001b[38;5;66;03m# No tape is watching; skip to running the function.\u001b[39;00m\n\u001b[1;32m-> 1860\u001b[0m   \u001b[38;5;28;01mreturn\u001b[39;00m \u001b[38;5;28mself\u001b[39m\u001b[38;5;241m.\u001b[39m_build_call_outputs(\u001b[38;5;28;43mself\u001b[39;49m\u001b[38;5;241;43m.\u001b[39;49m\u001b[43m_inference_function\u001b[49m\u001b[38;5;241;43m.\u001b[39;49m\u001b[43mcall\u001b[49m\u001b[43m(\u001b[49m\n\u001b[0;32m   1861\u001b[0m \u001b[43m      \u001b[49m\u001b[43mctx\u001b[49m\u001b[43m,\u001b[49m\u001b[43m \u001b[49m\u001b[43margs\u001b[49m\u001b[43m,\u001b[49m\u001b[43m \u001b[49m\u001b[43mcancellation_manager\u001b[49m\u001b[38;5;241;43m=\u001b[39;49m\u001b[43mcancellation_manager\u001b[49m\u001b[43m)\u001b[49m)\n\u001b[0;32m   1862\u001b[0m forward_backward \u001b[38;5;241m=\u001b[39m \u001b[38;5;28mself\u001b[39m\u001b[38;5;241m.\u001b[39m_select_forward_and_backward_functions(\n\u001b[0;32m   1863\u001b[0m     args,\n\u001b[0;32m   1864\u001b[0m     possible_gradient_type,\n\u001b[0;32m   1865\u001b[0m     executing_eagerly)\n\u001b[0;32m   1866\u001b[0m forward_function, args_with_tangents \u001b[38;5;241m=\u001b[39m forward_backward\u001b[38;5;241m.\u001b[39mforward()\n",
      "File \u001b[1;32m~\\.conda\\envs\\keras\\lib\\site-packages\\tensorflow\\python\\eager\\function.py:497\u001b[0m, in \u001b[0;36m_EagerDefinedFunction.call\u001b[1;34m(self, ctx, args, cancellation_manager)\u001b[0m\n\u001b[0;32m    495\u001b[0m \u001b[38;5;28;01mwith\u001b[39;00m _InterpolateFunctionError(\u001b[38;5;28mself\u001b[39m):\n\u001b[0;32m    496\u001b[0m   \u001b[38;5;28;01mif\u001b[39;00m cancellation_manager \u001b[38;5;129;01mis\u001b[39;00m \u001b[38;5;28;01mNone\u001b[39;00m:\n\u001b[1;32m--> 497\u001b[0m     outputs \u001b[38;5;241m=\u001b[39m \u001b[43mexecute\u001b[49m\u001b[38;5;241;43m.\u001b[39;49m\u001b[43mexecute\u001b[49m\u001b[43m(\u001b[49m\n\u001b[0;32m    498\u001b[0m \u001b[43m        \u001b[49m\u001b[38;5;28;43mstr\u001b[39;49m\u001b[43m(\u001b[49m\u001b[38;5;28;43mself\u001b[39;49m\u001b[38;5;241;43m.\u001b[39;49m\u001b[43msignature\u001b[49m\u001b[38;5;241;43m.\u001b[39;49m\u001b[43mname\u001b[49m\u001b[43m)\u001b[49m\u001b[43m,\u001b[49m\n\u001b[0;32m    499\u001b[0m \u001b[43m        \u001b[49m\u001b[43mnum_outputs\u001b[49m\u001b[38;5;241;43m=\u001b[39;49m\u001b[38;5;28;43mself\u001b[39;49m\u001b[38;5;241;43m.\u001b[39;49m\u001b[43m_num_outputs\u001b[49m\u001b[43m,\u001b[49m\n\u001b[0;32m    500\u001b[0m \u001b[43m        \u001b[49m\u001b[43minputs\u001b[49m\u001b[38;5;241;43m=\u001b[39;49m\u001b[43margs\u001b[49m\u001b[43m,\u001b[49m\n\u001b[0;32m    501\u001b[0m \u001b[43m        \u001b[49m\u001b[43mattrs\u001b[49m\u001b[38;5;241;43m=\u001b[39;49m\u001b[43mattrs\u001b[49m\u001b[43m,\u001b[49m\n\u001b[0;32m    502\u001b[0m \u001b[43m        \u001b[49m\u001b[43mctx\u001b[49m\u001b[38;5;241;43m=\u001b[39;49m\u001b[43mctx\u001b[49m\u001b[43m)\u001b[49m\n\u001b[0;32m    503\u001b[0m   \u001b[38;5;28;01melse\u001b[39;00m:\n\u001b[0;32m    504\u001b[0m     outputs \u001b[38;5;241m=\u001b[39m execute\u001b[38;5;241m.\u001b[39mexecute_with_cancellation(\n\u001b[0;32m    505\u001b[0m         \u001b[38;5;28mstr\u001b[39m(\u001b[38;5;28mself\u001b[39m\u001b[38;5;241m.\u001b[39msignature\u001b[38;5;241m.\u001b[39mname),\n\u001b[0;32m    506\u001b[0m         num_outputs\u001b[38;5;241m=\u001b[39m\u001b[38;5;28mself\u001b[39m\u001b[38;5;241m.\u001b[39m_num_outputs,\n\u001b[1;32m   (...)\u001b[0m\n\u001b[0;32m    509\u001b[0m         ctx\u001b[38;5;241m=\u001b[39mctx,\n\u001b[0;32m    510\u001b[0m         cancellation_manager\u001b[38;5;241m=\u001b[39mcancellation_manager)\n",
      "File \u001b[1;32m~\\.conda\\envs\\keras\\lib\\site-packages\\tensorflow\\python\\eager\\execute.py:54\u001b[0m, in \u001b[0;36mquick_execute\u001b[1;34m(op_name, num_outputs, inputs, attrs, ctx, name)\u001b[0m\n\u001b[0;32m     52\u001b[0m \u001b[38;5;28;01mtry\u001b[39;00m:\n\u001b[0;32m     53\u001b[0m   ctx\u001b[38;5;241m.\u001b[39mensure_initialized()\n\u001b[1;32m---> 54\u001b[0m   tensors \u001b[38;5;241m=\u001b[39m \u001b[43mpywrap_tfe\u001b[49m\u001b[38;5;241;43m.\u001b[39;49m\u001b[43mTFE_Py_Execute\u001b[49m\u001b[43m(\u001b[49m\u001b[43mctx\u001b[49m\u001b[38;5;241;43m.\u001b[39;49m\u001b[43m_handle\u001b[49m\u001b[43m,\u001b[49m\u001b[43m \u001b[49m\u001b[43mdevice_name\u001b[49m\u001b[43m,\u001b[49m\u001b[43m \u001b[49m\u001b[43mop_name\u001b[49m\u001b[43m,\u001b[49m\n\u001b[0;32m     55\u001b[0m \u001b[43m                                      \u001b[49m\u001b[43minputs\u001b[49m\u001b[43m,\u001b[49m\u001b[43m \u001b[49m\u001b[43mattrs\u001b[49m\u001b[43m,\u001b[49m\u001b[43m \u001b[49m\u001b[43mnum_outputs\u001b[49m\u001b[43m)\u001b[49m\n\u001b[0;32m     56\u001b[0m \u001b[38;5;28;01mexcept\u001b[39;00m core\u001b[38;5;241m.\u001b[39m_NotOkStatusException \u001b[38;5;28;01mas\u001b[39;00m e:\n\u001b[0;32m     57\u001b[0m   \u001b[38;5;28;01mif\u001b[39;00m name \u001b[38;5;129;01mis\u001b[39;00m \u001b[38;5;129;01mnot\u001b[39;00m \u001b[38;5;28;01mNone\u001b[39;00m:\n",
      "\u001b[1;31mKeyboardInterrupt\u001b[0m: "
     ]
    }
   ],
   "source": [
    "model2.fit(x_train_cham, y_train, epochs=10)"
   ]
  },
  {
   "cell_type": "code",
   "execution_count": 126,
   "id": "b1cca730-d0fd-4ab3-bfd6-cb17073a88b0",
   "metadata": {},
   "outputs": [
    {
     "name": "stdout",
     "output_type": "stream",
     "text": [
      "1/1 [==============================] - 0s 16ms/step\n"
     ]
    },
    {
     "data": {
      "text/plain": [
       "array([[[0.50164163],\n",
       "        [0.50164163],\n",
       "        [0.50164163],\n",
       "        [0.50164163],\n",
       "        [0.50164163]]], dtype=float32)"
      ]
     },
     "execution_count": 126,
     "metadata": {},
     "output_type": "execute_result"
    }
   ],
   "source": [
    "model2.predict(x_test_cham[[6]])"
   ]
  },
  {
   "cell_type": "code",
   "execution_count": 70,
   "id": "b394097a-eac1-48e4-9e57-da552249df4d",
   "metadata": {},
   "outputs": [
    {
     "data": {
      "text/plain": [
       "TensorShape([None, 5, 1])"
      ]
     },
     "execution_count": 70,
     "metadata": {},
     "output_type": "execute_result"
    }
   ],
   "source": [
    "chamHide.output.shape"
   ]
  }
 ],
 "metadata": {
  "kernelspec": {
   "display_name": "keras",
   "language": "python",
   "name": "keras"
  },
  "language_info": {
   "codemirror_mode": {
    "name": "ipython",
    "version": 3
   },
   "file_extension": ".py",
   "mimetype": "text/x-python",
   "name": "python",
   "nbconvert_exporter": "python",
   "pygments_lexer": "ipython3",
   "version": "3.9.12"
  }
 },
 "nbformat": 4,
 "nbformat_minor": 5
}
